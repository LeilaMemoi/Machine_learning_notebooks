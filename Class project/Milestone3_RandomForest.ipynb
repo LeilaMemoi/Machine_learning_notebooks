{
 "cells": [
  {
   "cell_type": "markdown",
   "metadata": {
    "tags": []
   },
   "source": [
    "\n",
    "## 0. Content\n",
    "***\n",
    "\n",
    "**Milestone 3**\n",
    "1. [Reminder: Definition of Prediction Problem](#c.1)\n",
    "2. [Training and Testing Datasets Loading](#c.2)\n",
    "3. [Definition of functions](#c.3)\n",
    "4. [Proposed Workflow](#c.4)\n",
    "5. [Selection of Initial Model](#c.5)\n",
    "6. [Hyperparameters Tunning](#c.6)\n",
    "7. [Performance Evaluation: Tuned Model 1](#c.7)\n",
    "8. [Explanatory Variables Importance and Selection](#c.8)\n",
    "9. [Hyperparameters Tunning after Variables Selection](#c.9)\n",
    "10. [Performance Evaluation: Tuned Model after Variables Selection](#c.10)\n",
    "11. [Comparison of Tuned Models](#c.11)\n",
    "12. [References](#c.12)"
   ]
  },
  {
   "cell_type": "markdown",
   "metadata": {
    "tags": []
   },
   "source": [
    "<div class=\"alert alert-block alert-info\"> <b>NOTE</b> For optimal execution of this notebook, please ensure that you run all cells in sequence. </div>"
   ]
  },
  {
   "cell_type": "markdown",
   "metadata": {
    "tags": []
   },
   "source": [
    "# Milestone 3"
   ]
  },
  {
   "cell_type": "markdown",
   "metadata": {
    "id": "je5_Rl2pTDcs",
    "tags": []
   },
   "source": [
    "***\n",
    "## 1. Reminder Definition of Prediction Problem <a id='c.1'></a>\n",
    "***\n",
    "The aim is to predict drought categories at the county level in the United States and at different periods of time as a function of weather and soil conditions. These categories align with the classifications established by the [US Drought Monitor](https://droughtmonitor.unl.edu/CurrentMap.aspx) and include No Drought and five additional categories as outlined below:\n",
    "\n",
    "![Drought Categories](img/D_categories.png)\n",
    "\n",
    "**Important: Geographic and Time Constraints**\n",
    "\n",
    "* To address the challenges associated with a large dataset, which can lead to extended training times and high resource consumption for the model trainings, we decided to narrow our focus to the [Mountain West States](https://en.wikipedia.org/wiki/Western_United_States) of the United States.\n",
    "*  Likewise, the years included in each of the datasets are the followings:\n",
    "    * Training: 2014 to 2018\n",
    "    * Testing: 2019 & 2020\n"
   ]
  },
  {
   "cell_type": "markdown",
   "metadata": {
    "id": "cYOIoKJwpD2_",
    "tags": []
   },
   "source": [
    "***\n",
    "## 2. Training and Testing Datasets Loading <a id='c.2'></a>\n",
    "***"
   ]
  },
  {
   "cell_type": "code",
   "execution_count": 5,
   "metadata": {
    "id": "LRJS0r11oJHU",
    "tags": []
   },
   "outputs": [],
   "source": [
    "# Importing necessary libraries\n",
    "import os\n",
    "import numpy as np\n",
    "import pandas as pd\n",
    "import matplotlib.pyplot as plt\n",
    "import seaborn as sns \n",
    "import time\n",
    "\n",
    "from sklearn.preprocessing import StandardScaler, label_binarize\n",
    "from imblearn.over_sampling import SMOTE\n",
    "from imblearn.under_sampling import RandomUnderSampler\n",
    "from sklearn.ensemble import RandomForestClassifier\n",
    "from sklearn.metrics import f1_score, classification_report, confusion_matrix, ConfusionMatrixDisplay, precision_recall_curve, PrecisionRecallDisplay\n",
    "from sklearn.model_selection import GridSearchCV, StratifiedKFold\n",
    "from sklearn.inspection import permutation_importance\n",
    "from sklearn.feature_selection import RFECV\n",
    "import joblib\n",
    "\n",
    "pd.set_option('display.max_columns', None)"
   ]
  },
  {
   "cell_type": "code",
   "execution_count": 6,
   "metadata": {
    "tags": []
   },
   "outputs": [],
   "source": [
    "# Load Training and Testing datasets\n",
    "data_dir = 'data'\n",
    "\n",
    "# Define the list of datasets to be loaded\n",
    "dataframes = ['train_TIME', 'test_TIME']\n",
    "\n",
    "# Load the datasets\n",
    "datasets = {}\n",
    "for df_name in dataframes:\n",
    "    file_name = f'{df_name}.csv'\n",
    "    file_path = os.path.join(data_dir, file_name)\n",
    "    datasets[df_name] = pd.read_csv(file_path)\n",
    "\n",
    "# Access the datasets using their keys\n",
    "train_df = datasets['train_TIME']\n",
    "test_df = datasets['test_TIME']\n",
    "\n",
    "# Change the data type of columns starting with \"SQ\" to uint8\n",
    "for df in [train_df, test_df]:\n",
    "    for column in df.columns:\n",
    "        if column.startswith(\"SQ\"):\n",
    "            df[column] = df[column].astype(\"uint8\")"
   ]
  },
  {
   "cell_type": "code",
   "execution_count": 7,
   "metadata": {
    "tags": []
   },
   "outputs": [
    {
     "name": "stdout",
     "output_type": "stream",
     "text": [
      "<class 'pandas.core.frame.DataFrame'>\n",
      "RangeIndex: 160720 entries, 0 to 160719\n",
      "Data columns (total 62 columns):\n",
      " #   Column         Non-Null Count   Dtype  \n",
      "---  ------         --------------   -----  \n",
      " 0   PRECTOT        160720 non-null  float64\n",
      " 1   PS             160720 non-null  float64\n",
      " 2   QV2M           160720 non-null  float64\n",
      " 3   T2M            160720 non-null  float64\n",
      " 4   T2MDEW         160720 non-null  float64\n",
      " 5   T2MWET         160720 non-null  float64\n",
      " 6   T2M_MAX        160720 non-null  float64\n",
      " 7   T2M_MIN        160720 non-null  float64\n",
      " 8   T2M_RANGE      160720 non-null  float64\n",
      " 9   TS             160720 non-null  float64\n",
      " 10  WS10M          160720 non-null  float64\n",
      " 11  WS10M_MAX      160720 non-null  float64\n",
      " 12  WS10M_MIN      160720 non-null  float64\n",
      " 13  WS10M_RANGE    160720 non-null  float64\n",
      " 14  WS50M          160720 non-null  float64\n",
      " 15  WS50M_MAX      160720 non-null  float64\n",
      " 16  WS50M_MIN      160720 non-null  float64\n",
      " 17  WS50M_RANGE    160720 non-null  float64\n",
      " 18  score          160720 non-null  int64  \n",
      " 19  lat            160720 non-null  float64\n",
      " 20  lon            160720 non-null  float64\n",
      " 21  elevation      160720 non-null  float64\n",
      " 22  slope1         160720 non-null  float64\n",
      " 23  slope2         160720 non-null  float64\n",
      " 24  slope3         160720 non-null  float64\n",
      " 25  slope4         160720 non-null  float64\n",
      " 26  slope5         160720 non-null  float64\n",
      " 27  slope6         160720 non-null  float64\n",
      " 28  slope7         160720 non-null  float64\n",
      " 29  slope8         160720 non-null  float64\n",
      " 30  aspectN        160720 non-null  float64\n",
      " 31  aspectE        160720 non-null  float64\n",
      " 32  aspectS        160720 non-null  float64\n",
      " 33  aspectW        160720 non-null  float64\n",
      " 34  aspectUnknown  160720 non-null  float64\n",
      " 35  WAT_LAND       160720 non-null  float64\n",
      " 36  NVG_LAND       160720 non-null  float64\n",
      " 37  URB_LAND       160720 non-null  float64\n",
      " 38  GRS_LAND       160720 non-null  float64\n",
      " 39  FOR_LAND       160720 non-null  float64\n",
      " 40  CULTRF_LAND    160720 non-null  float64\n",
      " 41  CULTIR_LAND    160720 non-null  float64\n",
      " 42  doy            160720 non-null  float64\n",
      " 43  year           160720 non-null  int64  \n",
      " 44  SQ1_2          160720 non-null  uint8  \n",
      " 45  SQ1_3          160720 non-null  uint8  \n",
      " 46  SQ1_6          160720 non-null  uint8  \n",
      " 47  SQ1_7          160720 non-null  uint8  \n",
      " 48  SQ2_2          160720 non-null  uint8  \n",
      " 49  SQ2_3          160720 non-null  uint8  \n",
      " 50  SQ3_2          160720 non-null  uint8  \n",
      " 51  SQ3_3          160720 non-null  uint8  \n",
      " 52  SQ3_4          160720 non-null  uint8  \n",
      " 53  SQ4_2          160720 non-null  uint8  \n",
      " 54  SQ5_2          160720 non-null  uint8  \n",
      " 55  SQ5_3          160720 non-null  uint8  \n",
      " 56  SQ5_4          160720 non-null  uint8  \n",
      " 57  SQ6_2          160720 non-null  uint8  \n",
      " 58  SQ6_3          160720 non-null  uint8  \n",
      " 59  SQ7_2          160720 non-null  uint8  \n",
      " 60  SQ7_3          160720 non-null  uint8  \n",
      " 61  SQ7_4          160720 non-null  uint8  \n",
      "dtypes: float64(42), int64(2), uint8(18)\n",
      "memory usage: 56.7 MB\n"
     ]
    }
   ],
   "source": [
    "# Display a detailed summary of the Training dataset\n",
    "train_df.info(verbose=True, show_counts=True)"
   ]
  },
  {
   "cell_type": "code",
   "execution_count": 8,
   "metadata": {
    "tags": []
   },
   "outputs": [
    {
     "name": "stdout",
     "output_type": "stream",
     "text": [
      "<class 'pandas.core.frame.DataFrame'>\n",
      "RangeIndex: 29400 entries, 0 to 29399\n",
      "Data columns (total 62 columns):\n",
      " #   Column         Non-Null Count  Dtype  \n",
      "---  ------         --------------  -----  \n",
      " 0   PRECTOT        29400 non-null  float64\n",
      " 1   PS             29400 non-null  float64\n",
      " 2   QV2M           29400 non-null  float64\n",
      " 3   T2M            29400 non-null  float64\n",
      " 4   T2MDEW         29400 non-null  float64\n",
      " 5   T2MWET         29400 non-null  float64\n",
      " 6   T2M_MAX        29400 non-null  float64\n",
      " 7   T2M_MIN        29400 non-null  float64\n",
      " 8   T2M_RANGE      29400 non-null  float64\n",
      " 9   TS             29400 non-null  float64\n",
      " 10  WS10M          29400 non-null  float64\n",
      " 11  WS10M_MAX      29400 non-null  float64\n",
      " 12  WS10M_MIN      29400 non-null  float64\n",
      " 13  WS10M_RANGE    29400 non-null  float64\n",
      " 14  WS50M          29400 non-null  float64\n",
      " 15  WS50M_MAX      29400 non-null  float64\n",
      " 16  WS50M_MIN      29400 non-null  float64\n",
      " 17  WS50M_RANGE    29400 non-null  float64\n",
      " 18  score          29400 non-null  int64  \n",
      " 19  lat            29400 non-null  float64\n",
      " 20  lon            29400 non-null  float64\n",
      " 21  elevation      29400 non-null  float64\n",
      " 22  slope1         29400 non-null  float64\n",
      " 23  slope2         29400 non-null  float64\n",
      " 24  slope3         29400 non-null  float64\n",
      " 25  slope4         29400 non-null  float64\n",
      " 26  slope5         29400 non-null  float64\n",
      " 27  slope6         29400 non-null  float64\n",
      " 28  slope7         29400 non-null  float64\n",
      " 29  slope8         29400 non-null  float64\n",
      " 30  aspectN        29400 non-null  float64\n",
      " 31  aspectE        29400 non-null  float64\n",
      " 32  aspectS        29400 non-null  float64\n",
      " 33  aspectW        29400 non-null  float64\n",
      " 34  aspectUnknown  29400 non-null  float64\n",
      " 35  WAT_LAND       29400 non-null  float64\n",
      " 36  NVG_LAND       29400 non-null  float64\n",
      " 37  URB_LAND       29400 non-null  float64\n",
      " 38  GRS_LAND       29400 non-null  float64\n",
      " 39  FOR_LAND       29400 non-null  float64\n",
      " 40  CULTRF_LAND    29400 non-null  float64\n",
      " 41  CULTIR_LAND    29400 non-null  float64\n",
      " 42  doy            29400 non-null  float64\n",
      " 43  year           29400 non-null  int64  \n",
      " 44  SQ1_2          29400 non-null  uint8  \n",
      " 45  SQ1_3          29400 non-null  uint8  \n",
      " 46  SQ1_6          29400 non-null  uint8  \n",
      " 47  SQ1_7          29400 non-null  uint8  \n",
      " 48  SQ2_2          29400 non-null  uint8  \n",
      " 49  SQ2_3          29400 non-null  uint8  \n",
      " 50  SQ3_2          29400 non-null  uint8  \n",
      " 51  SQ3_3          29400 non-null  uint8  \n",
      " 52  SQ3_4          29400 non-null  uint8  \n",
      " 53  SQ4_2          29400 non-null  uint8  \n",
      " 54  SQ5_2          29400 non-null  uint8  \n",
      " 55  SQ5_3          29400 non-null  uint8  \n",
      " 56  SQ5_4          29400 non-null  uint8  \n",
      " 57  SQ6_2          29400 non-null  uint8  \n",
      " 58  SQ6_3          29400 non-null  uint8  \n",
      " 59  SQ7_2          29400 non-null  uint8  \n",
      " 60  SQ7_3          29400 non-null  uint8  \n",
      " 61  SQ7_4          29400 non-null  uint8  \n",
      "dtypes: float64(42), int64(2), uint8(18)\n",
      "memory usage: 10.4 MB\n"
     ]
    }
   ],
   "source": [
    "# Display a detailed summary of the Testing dataset\n",
    "test_df.info(verbose=True, show_counts=True)"
   ]
  },
  {
   "cell_type": "code",
   "execution_count": 9,
   "metadata": {
    "id": "vv-J-ACmOZGV",
    "tags": []
   },
   "outputs": [
    {
     "name": "stdout",
     "output_type": "stream",
     "text": [
      "Training dataset percentage: 84.54%\n",
      "Testing dataset percentage 15.46%\n"
     ]
    }
   ],
   "source": [
    "# Percentage of the Training-Testing split\n",
    "total_rows = len(train_df)+ len(test_df)\n",
    "\n",
    "train_percentage = (len(train_df) / total_rows) * 100\n",
    "test_percentage = (len(test_df) / total_rows) * 100\n",
    "\n",
    "print(f\"Training dataset percentage: {train_percentage:.2f}%\")\n",
    "print(f\"Testing dataset percentage {test_percentage:.2f}%\")"
   ]
  },
  {
   "cell_type": "code",
   "execution_count": 10,
   "metadata": {
    "tags": []
   },
   "outputs": [],
   "source": [
    "# Division Explanatory Variables and Target\n",
    "X_train = train_df.drop(columns='score')\n",
    "y_train = train_df['score']\n",
    "X_test = test_df.drop(columns='score')\n",
    "y_test = test_df['score']"
   ]
  },
  {
   "cell_type": "markdown",
   "metadata": {},
   "source": [
    "It is important to clarify that Random Forest does not require Standardization. This is because it is a tree-based model and does not rely on gradient descent optimization (Filho, 2023). In this milestone, the Standardization is only performed to facilitate later the application Oversampling Techniques as SMOTE."
   ]
  },
  {
   "cell_type": "code",
   "execution_count": 12,
   "metadata": {
    "tags": []
   },
   "outputs": [],
   "source": [
    "# Create a StandardScaler object to standardize the data.\n",
    "scaler = StandardScaler()\n",
    "# Fit the scaler to the training data to compute mean and standard deviation.\n",
    "scaler.fit(X_train)\n",
    "# Transform the training data using the computed mean and standard deviation.\n",
    "scaled_X_train = scaler.transform(X_train)\n",
    "# Transform the test data using the same scaler.\n",
    "scaled_X_test = scaler.transform(X_test)"
   ]
  },
  {
   "cell_type": "markdown",
   "metadata": {},
   "source": [
    "***\n",
    "## 3. Definition of functions <a id='c.3'></a>\n",
    "***"
   ]
  },
  {
   "cell_type": "markdown",
   "metadata": {},
   "source": [
    "To minimize code redundancy, we created four functions:\n",
    "\n",
    "* One for evaluating model performance and plotting the confusion matrix\n",
    "* The second for computing the f1_macro metric\n",
    "* The third to plot the Out-of-Bag (OOB) error rate based Vs. n_estimators in a Random Forest classifier\n",
    "* The last for plotting precision-recall curves"
   ]
  },
  {
   "cell_type": "code",
   "execution_count": 13,
   "metadata": {
    "tags": []
   },
   "outputs": [],
   "source": [
    "# Test Model's Performance\n",
    "def evaluate_model_performance(y_true, y_pred):\n",
    "    \"\"\"\n",
    "    Evaluate the performance of the classification model and plot a confusion matrix.\n",
    "\n",
    "    Parameters:\n",
    "    - y_true: true labels for the data\n",
    "    - y_pred: predicted labels from the model\n",
    "    \"\"\"\n",
    "    # Define the class labels\n",
    "    \n",
    "    # Generate a classification report\n",
    "    print(classification_report(y_true, y_pred, target_names=['No Drought', 'D0','D1','D2','D3','D4']))\n",
    "\n",
    "    # Calculate the confusion matrix\n",
    "    cm = confusion_matrix(y_true, y_pred)\n",
    "\n",
    "    # Create a ConfusionMatrixDisplay object and plot the confusion matrix\n",
    "    sns.set(style='dark')\n",
    "    disp = ConfusionMatrixDisplay(confusion_matrix=cm, display_labels=['No Drought', 'D0','D1','D2','D3','D4'])\n",
    "    plt.figure(figsize=(4, 4))\n",
    "    disp.plot()"
   ]
  },
  {
   "cell_type": "code",
   "execution_count": 15,
   "metadata": {
    "tags": []
   },
   "outputs": [],
   "source": [
    "# Calculate f1_macro score\n",
    "def f1_score_macro_metric(y_true, y_pred):\n",
    "    \"\"\"\n",
    "    Compute the macro-averaged F1 score for multiclass classification.\n",
    "    \n",
    "    Parameters:\n",
    "    - y_true: true labels for the data\n",
    "    - y_pred: predicted labels from the model\n",
    "    \"\"\"\n",
    "    return f1_score(y_true, y_pred, average='macro')"
   ]
  },
  {
   "cell_type": "code",
   "execution_count": 16,
   "metadata": {
    "tags": []
   },
   "outputs": [],
   "source": [
    "# Plot OOB score Vs n_estimators\n",
    "def plot_oob_error_vs_n_estimators(step, rf_model, X_train, y_train):\n",
    "    \"\"\"\n",
    "    Plot the Out-of-Bag (OOB) error rate based on f1_macro score Vs. the number of trees (n_estimators) in a Random Forest model.\n",
    "\n",
    "    Parameters:\n",
    "        step (int): The step size for the range of n_estimators values to explore.\n",
    "        rf_model (RandomForestClassifier): The Random Forest model to use for OOB error calculation.\n",
    "        X_train (array-like): The training data.\n",
    "        y_train (array-like): Labels of training data\n",
    "      \n",
    "    \"\"\"\n",
    "    # Initialize a list to store OOB error rates for different n_estimators settings.\n",
    "    error_rate = []\n",
    "\n",
    "    # Define the range of `n_estimators` values to explore.\n",
    "    min_estimators = 100\n",
    "    max_estimators = 1500\n",
    "\n",
    "    # Iterate over a range of \"n_estimators\" values to build Random Forest models.\n",
    "    for i in range(min_estimators, max_estimators + 1, step):\n",
    "        # Set the 'n_estimators' parameter for the given rf_model.\n",
    "        rf_model.set_params(n_estimators=i, verbose=1)\n",
    "\n",
    "        # Fit the classifier on the training data.\n",
    "        rf_model.fit(X_train, y_train)\n",
    "\n",
    "        # Record the OOB error rate for the current \"n_estimators=i\" setting.\n",
    "        oob_error = 1 - rf_model.oob_score_\n",
    "        error_rate.append(oob_error)\n",
    "\n",
    "    # Generate a plot showing the \"n_estimators\" Vs. \"OOB error rate\"\n",
    "    sns.set_style(\"darkgrid\")\n",
    "    plt.plot(range(min_estimators, max_estimators + 1, step), error_rate, label=\"OOB error rate\")\n",
    "    \n",
    "    plt.ylim(min(error_rate)-0.02,max(error_rate)+0.02) \n",
    "    plt.xlim(min_estimators, max_estimators)\n",
    "    plt.xlabel(\"n_estimators\")\n",
    "    plt.ylabel(\"OOB error rate (based on f1_macro score)\")\n",
    "    plt.legend(loc=\"upper right\")\n",
    "    plt.show()"
   ]
  },
  {
   "cell_type": "code",
   "execution_count": 17,
   "metadata": {
    "tags": []
   },
   "outputs": [],
   "source": [
    "# Plot Precision Recall curves per class\n",
    "# Based on https://stackoverflow.com/questions/56090541/how-to-plot-precision-and-recall-of-multiclass-classifier\n",
    "# Additional Resources: https://scikit-learn.org/stable/auto_examples/model_selection/plot_precision_recall.html#sphx-glr-auto-examples-model-selection-plot-precision-recall-py\n",
    "def plot_precision_recall_curves(model, X_test, y_test):\n",
    "    \"\"\"\n",
    "    Generate and plot a Precision-Recall curve for a multi-class classification model.\n",
    "\n",
    "    Parameters:\n",
    "    model (estimator): The classification model for which the Precision-Recall curve is generated.\n",
    "    X_test (array-like): The feature matrix of the test data.\n",
    "    y_test (array-like): The true labels of the test data.\n",
    "    \"\"\"\n",
    "\n",
    "    # Binarize the true labels for multi-label settings\n",
    "    y_test = label_binarize(y_test, classes=[0, 1, 2, 3, 4, 5])\n",
    "    n_classes = y_test.shape[1]\n",
    "\n",
    "    # Calculate the decision function scores\n",
    "    y_score = model.predict_proba(X_test)\n",
    "\n",
    "    # Initialize dictionaries to store precision and recall values\n",
    "    precision = dict()\n",
    "    recall = dict()\n",
    "\n",
    "    # Calculate precision and recall for each class\n",
    "    for i in range(n_classes):\n",
    "        precision[i], recall[i], _ = precision_recall_curve(y_test[:, i], y_score[:, i])\n",
    "        plt.plot(recall[i], precision[i], lw=2, label='class {}'.format(['No Drought', 'D0', 'D1', 'D2', 'D3', 'D4'][i]))\n",
    "\n",
    "    # Set axis labels and legend\n",
    "    sns.set_style(\"darkgrid\")\n",
    "    sns.set_style(\"darkgrid\")\n",
    "    plt.xlabel(\"Recall\")\n",
    "    plt.ylabel(\"Precision\")\n",
    "    plt.legend(loc=\"best\")\n",
    "    plt.title(\"Precision-Recall curve per class\")\n",
    "    plt.show()"
   ]
  },
  {
   "cell_type": "markdown",
   "metadata": {
    "jp-MarkdownHeadingCollapsed": true,
    "tags": []
   },
   "source": [
    "***\n",
    "## 4.  Proposed Workflow <a id='c.4'></a>\n",
    "***\n",
    "To be more clear, the diagram below presents the proposed workflow for this milestone:\n",
    "\n",
    "![Workflow_RF_mod](img/Workflow_RF_mod.jpg)\n",
    "\n",
    "Starting with the Proposed Workfow, the table below outlines the parameters **shared** among the Model 1 and Model 2 with their respective explanations based on the [documentation](https://scikit-learn.org/stable/modules/generated/sklearn.ensemble.RandomForestClassifier.html):\n",
    "\n",
    "| Parameter Name             | Selected Value       | Explanation                                                                                                           |\n",
    "|---------------------------|-----------------------|-----------------------------------------------------------------------------------------------------------------------|\n",
    "| `n_estimators`             | 500                   | 500 estimators were selected as a starting point to assess execution speed of the models, a middle-ground choice. |\n",
    "| `criterion`                | default=\"gini\"       | The splitting quality is based on the Gini impurity.                                                                |\n",
    "| `max_depth`               | default=None         | No limit is set on the depth of the estimators, as the primary focus is on assessing model execution times.      |\n",
    "| `min_samples_split` | default=2             | The default value specifies that a minimum of 2 samples is required to split an internal node.                  |\n",
    "| `min_samples_leaf`   | default=1             | The default value requires a minimum of 1 sample to be at a leaf node.                                           |\n",
    "| `min_weight_fraction_leaf` | default=0.0    | All samples are assigned equal weight.                                                                             |\n",
    "| `max_features`            | default=\"sqrt\"      | The default value for `max_features` is chosen as a baseline; it's recommended for classification and will be fine-tuned later. |\n",
    "| `max_leaf_nodes`       | default=None         | The number of leaf nodes is not limited.                                                                          |\n",
    "| `min_impurity_decrease` | default=0.0    | In the default setting, there is no constraint on the minimum impurity decrease.                                                                  |\n",
    "| `bootstrap`                | default=True        | Bootstrap samples are used when building trees.                                                                  |\n",
    "| `oob_score`              | callable→f1_score_macro_metric | By default, accuracy_score is used, but f1_macro is chosen due to dataset imbalance. |\n",
    "| `n_jobs`                    | -1                       | `n_jobs` is set to -1, utilizing all available processors.                                                           |\n",
    "| `random_state`           | 44                     | The `random_state` is set to 44 to ensure reproducibility.                                                         |\n",
    "| `verbose`                  | default=0            | Verbosity is set to its default value (0) since it's not required in the initial stage.                               |\n",
    "| `warm_start`           | default=False       | `warm_start` is kept at its default value as it's the first fit of each model.                                 |\n",
    "| `ccp_alpha`                | default=0.0        | No pruning is performed.                                                                                                |\n",
    "| `max_samples`          | default=None       | The default value indicates that all samples (X.shape[0]) are used to train each estimator. |\n"
   ]
  },
  {
   "cell_type": "markdown",
   "metadata": {},
   "source": [
    "***\n",
    "## 5.  Selection of Initial Model <a id='c.5'></a>\n",
    "***\n",
    "Similar to what was presented in the previous milestone with Logistic Regression, we started our exploration by evaluating two Random Forest Classifiers, each tackling class imbalance differently. Initially, we approached it at the model-level using the `class_weight` parameter. Then, we addressed it at the data-level by employing the Synthetic Minority Oversampling Technique (SMOTE).\n",
    "\n",
    "**Note**: We conducted testing on the [BalancedRandomForestClassifier](https://imbalanced-learn.org/stable/references/generated/imblearn.ensemble.BalancedRandomForestClassifier.html) from the imbalanced-learn library and observed that its performance closely matched that of the RandomForestClassifier from sklearn when using the class_weight parameter. Consequently, we continued our work with the sklearn algorithm."
   ]
  },
  {
   "cell_type": "markdown",
   "metadata": {},
   "source": [
    "### 5.1  Managing class imbalance with Model Weights\n",
    "The `class_weight` default value is None, which assumes that all classes are supposed to have weight one. Consequently, it was modified as follows:\n",
    "\n",
    "| Parameter Name  | Selected Value | Explanation                                             |\n",
    "|------------------|-----------------|---------------------------------------------------------|\n",
    "| **`class_weight`** | balanced       | We set it to 'balanced' to modify the weights inversely proportional to the class frequencies in the input data, using the formula: `n_samples / (n_classes * np.bincount(y))`, as outlined in the [documentation](https://scikit-learn.org/stable/modules/generated/sklearn.ensemble.RandomForestClassifier.html)|\n",
    "\n",
    "**Result**: The model executed in under 1 minute, with an OOB error of 0.2006 using the f1_macro metric. During this initial assessment, our main objective was to evaluate the model's speed since it will undergo multiple runs for further fine-tuning. Achieving an outstanding score was not our primary goal at this stage."
   ]
  },
  {
   "cell_type": "code",
   "execution_count": 18,
   "metadata": {
    "tags": []
   },
   "outputs": [
    {
     "data": {
      "text/plain": [
       "['model1_RF_TIME.pkl']"
      ]
     },
     "execution_count": 18,
     "metadata": {},
     "output_type": "execute_result"
    }
   ],
   "source": [
    "# Model 1: Addressing Class Imbalance with Model Weights\n",
    "start = time.time()\n",
    "clf1 = RandomForestClassifier(n_estimators= 500, \n",
    "                              max_features= 'sqrt',\n",
    "                              class_weight= 'balanced',\n",
    "                              oob_score= f1_score_macro_metric,\n",
    "                              n_jobs= -1,\n",
    "                              random_state= 44)\n",
    "clf1.fit(X_train, y_train)\n",
    "end = time.time()\n",
    "joblib.dump(clf1, 'model1_RF_TIME.pkl')"
   ]
  },
  {
   "cell_type": "code",
   "execution_count": 19,
   "metadata": {
    "tags": []
   },
   "outputs": [
    {
     "name": "stdout",
     "output_type": "stream",
     "text": [
      "OOB error clf1:  0.2649\n",
      "f1_macro:  0.24767949091669847\n"
     ]
    }
   ],
   "source": [
    "# Performance M1\n",
    "print('OOB error clf1: ', round(1-clf1.oob_score_,4))\n",
    "y_pred_clf1= clf1.predict(X_test)\n",
    "print('f1_macro: ', f1_score(y_test, y_pred_clf1, average=\"macro\"))"
   ]
  },
  {
   "cell_type": "markdown",
   "metadata": {},
   "source": [
    "### 5.2  Managing class imbalance with SMOTE\n",
    "This time the default value for the `class_weight` parameter was left, but same as in the previous milstone, synthetic instances based on existing examples were created. This approach is known as the Synthetic Minority Oversampling Technique (SMOTE). Specifically:\n",
    "\n",
    "\"SMOTE first selects a minority class instance at random and finds its k nearest minority class neighbors. The synthetic instance is then created by choosing one of the k nearest neighbors b at random and connecting a and b to form a line segment in the feature space. The synthetic instances are generated as a convex combination of the two chosen instances a and b\" (He & Ma, 2013)"
   ]
  },
  {
   "cell_type": "code",
   "execution_count": 15,
   "metadata": {
    "tags": []
   },
   "outputs": [],
   "source": [
    "# Oversampling dataset with SMOTE\n",
    "# https://imbalanced-learn.org/stable/references/generated/imblearn.over_sampling.SMOTE.html\n",
    "sm = SMOTE(random_state=44)\n",
    "smote_X_train, smote_y_train = sm.fit_resample(scaled_X_train, y_train)"
   ]
  },
  {
   "cell_type": "code",
   "execution_count": 16,
   "metadata": {
    "tags": []
   },
   "outputs": [
    {
     "data": {
      "image/png": "[encoded data removed]",
      "text/plain": [
       "<Figure size 500x400 with 1 Axes>"
      ]
     },
     "metadata": {},
     "output_type": "display_data"
    }
   ],
   "source": [
    "# Create a countplot to display the new distribution after SMOTE\n",
    "# Set Seaborn style to \"dark\"\n",
    "sns.set_style(\"darkgrid\")\n",
    "\n",
    "plt.figure(figsize=(5,4))\n",
    "ax = sns.countplot(x=smote_y_train)\n",
    "ax.set_title('Countplot of Drought Categories in the Training Dataset after SMOTE', fontsize=14) \n",
    "\n",
    "# Set the axis labels\n",
    "ax.set_xlabel('Score')\n",
    "ax.set_ylabel('Count')\n",
    "\n",
    "# Annotate each bar with the count\n",
    "for p in ax.patches:\n",
    "    height = p.get_height()\n",
    "    percentage = (height / len(smote_y_train)) * 100\n",
    "    ax.annotate(f'{percentage:.2f}%', (p.get_x() + p.get_width() / 2., height + 500), ha='center', fontsize=8, color='black')"
   ]
  },
  {
   "cell_type": "markdown",
   "metadata": {},
   "source": [
    "**Result**: This time, the model took approximately 4 minutes to complete, with an OOB error based on f1_macro score of 0.0448. Although it exhibited lower error, it required approximately four times the runtime of the previous model. This could potentially lead to significant time overhead when fine-tuning parameters, which often involves multiple iterations"
   ]
  },
  {
   "cell_type": "code",
   "execution_count": 21,
   "metadata": {
    "tags": []
   },
   "outputs": [
    {
     "name": "stdout",
     "output_type": "stream",
     "text": [
      "Execution time for Training clf2_1: 591.4293842315674 seconds\n"
     ]
    },
    {
     "data": {
      "text/plain": [
       "['model2_1_RF_TIME.pkl']"
      ]
     },
     "execution_count": 21,
     "metadata": {},
     "output_type": "execute_result"
    }
   ],
   "source": [
    "# Model 2.1: Addressing Class Imbalance with SMOTE\n",
    "start = time.time()\n",
    "clf2_1 = RandomForestClassifier(n_estimators= 500, \n",
    "                              max_features= 'sqrt',\n",
    "                              oob_score= f1_score_macro_metric,\n",
    "                              n_jobs= -1,\n",
    "                              random_state= 44)\n",
    "clf2_1.fit(smote_X_train, smote_y_train)\n",
    "end = time.time()\n",
    "print('Execution time for Training clf2_1:', end - start, \"seconds\")\n",
    "joblib.dump(clf2_1, 'model2_1_RF_TIME.pkl')"
   ]
  },
  {
   "cell_type": "code",
   "execution_count": 23,
   "metadata": {
    "tags": []
   },
   "outputs": [
    {
     "name": "stdout",
     "output_type": "stream",
     "text": [
      "OOB error clf2_1:  0.0682\n",
      "f1_macro:  0.11698362463432425\n"
     ]
    }
   ],
   "source": [
    "# Performance M2.1\n",
    "print('OOB error clf2_1: ', round(1-clf2_1.oob_score_,4))\n",
    "y_pred_clf2_1= clf2_1.predict(X_test)\n",
    "print('f1_macro: ', f1_score(y_test, y_pred_clf2_1, average=\"macro\"))"
   ]
  },
  {
   "cell_type": "markdown",
   "metadata": {
    "tags": []
   },
   "source": [
    "### 5.3  Managing class imbalance with RandomUnderSampler "
   ]
  },
  {
   "cell_type": "code",
   "execution_count": 24,
   "metadata": {
    "tags": []
   },
   "outputs": [],
   "source": [
    "# Undersampling dataset with RandomUnderSampler\n",
    "rus = RandomUnderSampler(random_state=44)\n",
    "rus_X_train, rus_y_train = rus.fit_resample(scaled_X_train, y_train)"
   ]
  },
  {
   "cell_type": "code",
   "execution_count": 27,
   "metadata": {
    "tags": []
   },
   "outputs": [
    {
     "data": {
      "image/png": "[encoded data removed]",
      "text/plain": [
       "<Figure size 500x400 with 1 Axes>"
      ]
     },
     "metadata": {},
     "output_type": "display_data"
    }
   ],
   "source": [
    "# Create a countplot to display the new distribution after RandomUnderSampler\n",
    "# Set Seaborn style to \"dark\"\n",
    "sns.set_style(\"darkgrid\")\n",
    "\n",
    "plt.figure(figsize=(5,4))\n",
    "ax = sns.countplot(x=rus_y_train)\n",
    "ax.set_title('Countplot of Drought Categories in the Training Dataset after RandomUnderSampler', fontsize=14) \n",
    "\n",
    "# Set the axis labels\n",
    "ax.set_xlabel('Score')\n",
    "ax.set_ylabel('Count')\n",
    "\n",
    "# Annotate each bar with the count\n",
    "for p in ax.patches:\n",
    "    height = p.get_height()\n",
    "    percentage = (height / len(rus_y_train)) * 100\n",
    "    ax.annotate(f'{percentage:.2f}%', (p.get_x() + p.get_width() / 2., height + 50), ha='center', fontsize=8, color='black')"
   ]
  },
  {
   "cell_type": "code",
   "execution_count": 28,
   "metadata": {
    "tags": []
   },
   "outputs": [
    {
     "name": "stdout",
     "output_type": "stream",
     "text": [
      "Execution time for Training clf2_2: 13.077004432678223 seconds\n"
     ]
    },
    {
     "data": {
      "text/plain": [
       "['model2_2_RF_TIME.pkl']"
      ]
     },
     "execution_count": 28,
     "metadata": {},
     "output_type": "execute_result"
    }
   ],
   "source": [
    "# Model 2.2: Addressing Class Imbalance with RandomUnderSampler\n",
    "start = time.time()\n",
    "clf2_2 = RandomForestClassifier(n_estimators= 500, \n",
    "                              max_features= 'sqrt',\n",
    "                              oob_score= f1_score_macro_metric,\n",
    "                              n_jobs= -1,\n",
    "                              random_state= 44)\n",
    "clf2_2.fit(rus_X_train, rus_y_train)\n",
    "end = time.time()\n",
    "\n",
    "print('Execution time for Training clf2_2:', end - start, \"seconds\")\n",
    "joblib.dump(clf2_2, 'model2_2_RF_TIME.pkl')"
   ]
  },
  {
   "cell_type": "code",
   "execution_count": 30,
   "metadata": {
    "tags": []
   },
   "outputs": [
    {
     "name": "stdout",
     "output_type": "stream",
     "text": [
      "OOB error clf2_2:  0.4505\n",
      "f1_macro:  0.10319706090875704\n"
     ]
    }
   ],
   "source": [
    "# Performance M2.2\n",
    "print('OOB error clf2_2: ', round(1-clf2_2.oob_score_,4))\n",
    "y_pred_clf2_2= clf2_2.predict(X_test)\n",
    "print('f1_macro: ', f1_score(y_test, y_pred_clf2_2, average=\"macro\"))"
   ]
  },
  {
   "cell_type": "markdown",
   "metadata": {
    "tags": []
   },
   "source": [
    "***\n",
    "## 6. Hyperparameters Tunning <a id='c.6'></a>\n",
    "***\n",
    "Taking into account the excecution speed,  we chose to further tune the first classifier, which addressed the class imbalance with the model's `class_weight` parameter.\n",
    "\n",
    "The primary hyperparameters to optimize in a Random Forest Classifier are:\n",
    "\n",
    "1. `n_estimators`: This parameter corresponds to the number of trees in the forest.\n",
    "2. `max_features`: It is associated with the number of features considered when searching for the best split.\n",
    "    * It plays a crucial role in guiding the model on how to select features for each tree. The available assignment methods include None, log, sqrt, as well as int and float values. When set to None, the model will consider all available features that are relevant to the tree's decision-making process. As for log or sqrt, the model will compute the logarithm or square root of the total number of features and use that value as the maximum number of features for a tree. Using an integer value will specify a fixed number of features to be considered by each tree while setting it as a float indicates a percentage of features relative to the total number of features. \n",
    "    * Selecting the optimal value for `max_features` involves a trade-off between model performance and training speed. Increasing the value may not always guarantee better performance, as it can reduce the diversity of individual trees. However, it can lead to more robust models. On the flip side, higher values can significantly slow down the training process (Srivastava, 2023)\n",
    "\n",
    "To fine-tune these hyperparameters, we followed this methodology:\n",
    "\n",
    "1. Initially, we trained the selected model multiple times, varying the `n_estimators` values. Specifically, we explored a range of values from 100 to 1500 in steps of 100. We then plotted the OOB score based on the f1_macro metric for each value. This plot allowed us to identify the initial n_estimators that resulted in a stabilized OOB error, rather than minimizing it.\n",
    "\n",
    "2. With the chosen n_estimators value, we conducted a Grid Search to determine the optimal value for the `max_features` hyperparameter. We tested five different values (0.1, 0.3, 0.5, 0.7, 0.9). We selected the value with the highest mean f1_macro score and the lowest standard deviation.\n",
    "\n",
    "3. As a double-check, we repeated the first step with the selected max_features value to verify if the previously chosen `n_estimators` value remained a suitable option."
   ]
  },
  {
   "cell_type": "markdown",
   "metadata": {},
   "source": [
    "### 6.1 First Step: Intial Calibration `n_estimators`"
   ]
  },
  {
   "cell_type": "code",
   "execution_count": 31,
   "metadata": {
    "tags": []
   },
   "outputs": [
    {
     "name": "stderr",
     "output_type": "stream",
     "text": [
      "[Parallel(n_jobs=-1)]: Using backend ThreadingBackend with 8 concurrent workers.\n",
      "[Parallel(n_jobs=-1)]: Done  34 tasks      | elapsed:    9.9s\n",
      "[Parallel(n_jobs=-1)]: Done 100 out of 100 | elapsed:   27.4s finished\n",
      "[Parallel(n_jobs=-1)]: Using backend ThreadingBackend with 8 concurrent workers.\n",
      "[Parallel(n_jobs=-1)]: Done  34 tasks      | elapsed:   10.0s\n",
      "[Parallel(n_jobs=-1)]: Done 184 tasks      | elapsed:   50.2s\n",
      "[Parallel(n_jobs=-1)]: Done 200 out of 200 | elapsed:   54.5s finished\n",
      "[Parallel(n_jobs=-1)]: Using backend ThreadingBackend with 8 concurrent workers.\n",
      "[Parallel(n_jobs=-1)]: Done  34 tasks      | elapsed:   10.2s\n",
      "[Parallel(n_jobs=-1)]: Done 184 tasks      | elapsed:   48.3s\n",
      "[Parallel(n_jobs=-1)]: Done 300 out of 300 | elapsed:  1.3min finished\n",
      "[Parallel(n_jobs=-1)]: Using backend ThreadingBackend with 8 concurrent workers.\n",
      "[Parallel(n_jobs=-1)]: Done  34 tasks      | elapsed:   10.8s\n",
      "[Parallel(n_jobs=-1)]: Done 184 tasks      | elapsed:   51.7s\n",
      "[Parallel(n_jobs=-1)]: Done 400 out of 400 | elapsed:  1.8min finished\n",
      "[Parallel(n_jobs=-1)]: Using backend ThreadingBackend with 8 concurrent workers.\n",
      "[Parallel(n_jobs=-1)]: Done  34 tasks      | elapsed:    9.8s\n",
      "[Parallel(n_jobs=-1)]: Done 184 tasks      | elapsed:   46.1s\n",
      "[Parallel(n_jobs=-1)]: Done 434 tasks      | elapsed:  1.8min\n",
      "[Parallel(n_jobs=-1)]: Done 500 out of 500 | elapsed:  2.0min finished\n",
      "[Parallel(n_jobs=-1)]: Using backend ThreadingBackend with 8 concurrent workers.\n",
      "[Parallel(n_jobs=-1)]: Done  34 tasks      | elapsed:    9.0s\n",
      "[Parallel(n_jobs=-1)]: Done 184 tasks      | elapsed:   45.2s\n",
      "[Parallel(n_jobs=-1)]: Done 434 tasks      | elapsed:  1.8min\n",
      "[Parallel(n_jobs=-1)]: Done 600 out of 600 | elapsed:  2.5min finished\n",
      "[Parallel(n_jobs=-1)]: Using backend ThreadingBackend with 8 concurrent workers.\n",
      "[Parallel(n_jobs=-1)]: Done  34 tasks      | elapsed:    9.9s\n",
      "[Parallel(n_jobs=-1)]: Done 184 tasks      | elapsed:   47.9s\n",
      "[Parallel(n_jobs=-1)]: Done 434 tasks      | elapsed:  1.8min\n",
      "[Parallel(n_jobs=-1)]: Done 700 out of 700 | elapsed:  2.9min finished\n",
      "[Parallel(n_jobs=-1)]: Using backend ThreadingBackend with 8 concurrent workers.\n",
      "[Parallel(n_jobs=-1)]: Done  34 tasks      | elapsed:    9.4s\n",
      "[Parallel(n_jobs=-1)]: Done 184 tasks      | elapsed:   45.8s\n",
      "[Parallel(n_jobs=-1)]: Done 434 tasks      | elapsed:  1.8min\n",
      "[Parallel(n_jobs=-1)]: Done 784 tasks      | elapsed:  3.2min\n",
      "[Parallel(n_jobs=-1)]: Done 800 out of 800 | elapsed:  3.3min finished\n",
      "[Parallel(n_jobs=-1)]: Using backend ThreadingBackend with 8 concurrent workers.\n",
      "[Parallel(n_jobs=-1)]: Done  34 tasks      | elapsed:    9.0s\n",
      "[Parallel(n_jobs=-1)]: Done 184 tasks      | elapsed:   44.1s\n",
      "[Parallel(n_jobs=-1)]: Done 434 tasks      | elapsed:  1.8min\n",
      "[Parallel(n_jobs=-1)]: Done 784 tasks      | elapsed:  3.2min\n",
      "[Parallel(n_jobs=-1)]: Done 900 out of 900 | elapsed:  3.7min finished\n",
      "[Parallel(n_jobs=-1)]: Using backend ThreadingBackend with 8 concurrent workers.\n",
      "[Parallel(n_jobs=-1)]: Done  34 tasks      | elapsed:    9.5s\n",
      "[Parallel(n_jobs=-1)]: Done 184 tasks      | elapsed:   45.9s\n",
      "[Parallel(n_jobs=-1)]: Done 434 tasks      | elapsed:  1.8min\n",
      "[Parallel(n_jobs=-1)]: Done 784 tasks      | elapsed:  3.3min\n",
      "[Parallel(n_jobs=-1)]: Done 1000 out of 1000 | elapsed:  4.1min finished\n",
      "[Parallel(n_jobs=-1)]: Using backend ThreadingBackend with 8 concurrent workers.\n",
      "[Parallel(n_jobs=-1)]: Done  34 tasks      | elapsed:    9.6s\n",
      "[Parallel(n_jobs=-1)]: Done 184 tasks      | elapsed:   45.8s\n",
      "[Parallel(n_jobs=-1)]: Done 434 tasks      | elapsed:  1.8min\n",
      "[Parallel(n_jobs=-1)]: Done 784 tasks      | elapsed:  3.2min\n",
      "[Parallel(n_jobs=-1)]: Done 1100 out of 1100 | elapsed:  4.5min finished\n",
      "[Parallel(n_jobs=-1)]: Using backend ThreadingBackend with 8 concurrent workers.\n",
      "[Parallel(n_jobs=-1)]: Done  34 tasks      | elapsed:    9.4s\n",
      "[Parallel(n_jobs=-1)]: Done 184 tasks      | elapsed:   45.2s\n",
      "[Parallel(n_jobs=-1)]: Done 434 tasks      | elapsed:  1.8min\n",
      "[Parallel(n_jobs=-1)]: Done 784 tasks      | elapsed:  3.1min\n",
      "[Parallel(n_jobs=-1)]: Done 1200 out of 1200 | elapsed:  4.8min finished\n",
      "[Parallel(n_jobs=-1)]: Using backend ThreadingBackend with 8 concurrent workers.\n",
      "[Parallel(n_jobs=-1)]: Done  34 tasks      | elapsed:    9.6s\n",
      "[Parallel(n_jobs=-1)]: Done 184 tasks      | elapsed:   46.2s\n",
      "[Parallel(n_jobs=-1)]: Done 434 tasks      | elapsed:  1.8min\n",
      "[Parallel(n_jobs=-1)]: Done 784 tasks      | elapsed:  3.2min\n",
      "[Parallel(n_jobs=-1)]: Done 1234 tasks      | elapsed:  5.1min\n",
      "[Parallel(n_jobs=-1)]: Done 1300 out of 1300 | elapsed:  5.3min finished\n",
      "[Parallel(n_jobs=-1)]: Using backend ThreadingBackend with 8 concurrent workers.\n",
      "[Parallel(n_jobs=-1)]: Done  34 tasks      | elapsed:   10.2s\n",
      "[Parallel(n_jobs=-1)]: Done 184 tasks      | elapsed:   48.5s\n",
      "[Parallel(n_jobs=-1)]: Done 434 tasks      | elapsed:  1.9min\n",
      "[Parallel(n_jobs=-1)]: Done 784 tasks      | elapsed:  3.5min\n",
      "[Parallel(n_jobs=-1)]: Done 1234 tasks      | elapsed:  5.4min\n",
      "[Parallel(n_jobs=-1)]: Done 1400 out of 1400 | elapsed:  6.1min finished\n",
      "[Parallel(n_jobs=-1)]: Using backend ThreadingBackend with 8 concurrent workers.\n",
      "[Parallel(n_jobs=-1)]: Done  34 tasks      | elapsed:   10.9s\n",
      "[Parallel(n_jobs=-1)]: Done 184 tasks      | elapsed:   55.1s\n",
      "[Parallel(n_jobs=-1)]: Done 434 tasks      | elapsed:  2.3min\n",
      "[Parallel(n_jobs=-1)]: Done 784 tasks      | elapsed:  4.1min\n",
      "[Parallel(n_jobs=-1)]: Done 1234 tasks      | elapsed:  5.9min\n",
      "[Parallel(n_jobs=-1)]: Done 1500 out of 1500 | elapsed:  7.0min finished\n"
     ]
    },
    {
     "data": {
      "image/png": "[encoded data removed]",
      "text/plain": [
       "<Figure size 800x550 with 1 Axes>"
      ]
     },
     "metadata": {},
     "output_type": "display_data"
    }
   ],
   "source": [
    "# n_estimators First Tunning\n",
    "plot_oob_error_vs_n_estimators(step=100, rf_model=clf1, X_train=X_train, y_train=y_train)"
   ]
  },
  {
   "cell_type": "markdown",
   "metadata": {},
   "source": [
    "**Result Step 1**: After analyzing the plot, the value of **800** for `n_estimators` was chosen, as it stabilizes the OOB error."
   ]
  },
  {
   "cell_type": "markdown",
   "metadata": {},
   "source": [
    "### 6.2  Second Step: Calibration `max_features`"
   ]
  },
  {
   "cell_type": "code",
   "execution_count": 20,
   "metadata": {
    "tags": []
   },
   "outputs": [
    {
     "name": "stdout",
     "output_type": "stream",
     "text": [
      "27322 4822\n",
      "27322 4822\n",
      "27322 4822\n",
      "27322 4822\n",
      "27322 4822\n"
     ]
    }
   ],
   "source": [
    "# CV Methodology\n",
    "class BlockingTimeSeriesSplit():\n",
    "    def __init__(self, n_splits):\n",
    "        self.n_splits = n_splits\n",
    "    \n",
    "    def get_n_splits(self, X, y, groups):\n",
    "        return self.n_splits\n",
    "    \n",
    "    def split(self, X, y=None, groups=None):\n",
    "        n_samples = len(X)\n",
    "        k_fold_size = n_samples // self.n_splits\n",
    "        indices = np.arange(n_samples)\n",
    "\n",
    "        margin = 0\n",
    "        for i in range(self.n_splits):\n",
    "            start = i * k_fold_size\n",
    "            stop = start + k_fold_size\n",
    "            mid = int(0.85 * (stop - start)) + start\n",
    "            yield indices[start: mid], indices[mid + margin: stop]\n",
    "            \n",
    "b_cv = BlockingTimeSeriesSplit(n_splits=5)\n",
    "b_cv_idx = b_cv.split(scaled_X_train, y_train)\n",
    "for train_idx, val_idx in b_cv_idx:\n",
    "    print(len(train_idx), len(val_idx))"
   ]
  },
  {
   "cell_type": "code",
   "execution_count": 21,
   "metadata": {
    "tags": []
   },
   "outputs": [
    {
     "name": "stdout",
     "output_type": "stream",
     "text": [
      "Fitting 5 folds for each of 5 candidates, totalling 25 fits\n",
      "[CV 1/5] END max_features=0.1;, score=(train=1.000, test=0.230) total time= 1.6min\n",
      "[CV 2/5] END max_features=0.1;, score=(train=1.000, test=0.298) total time= 1.4min\n",
      "[CV 3/5] END max_features=0.1;, score=(train=1.000, test=0.350) total time= 1.5min\n",
      "[CV 4/5] END max_features=0.1;, score=(train=1.000, test=0.220) total time= 1.5min\n",
      "[CV 5/5] END max_features=0.1;, score=(train=1.000, test=0.398) total time= 1.5min\n",
      "[CV 1/5] END max_features=0.3;, score=(train=1.000, test=0.318) total time= 2.8min\n",
      "[CV 2/5] END max_features=0.3;, score=(train=1.000, test=0.313) total time= 3.0min\n",
      "[CV 3/5] END max_features=0.3;, score=(train=1.000, test=0.438) total time= 1.8min\n",
      "[CV 4/5] END max_features=0.3;, score=(train=1.000, test=0.426) total time= 1.9min\n",
      "[CV 5/5] END max_features=0.3;, score=(train=1.000, test=0.470) total time= 2.0min\n",
      "[CV 1/5] END max_features=0.5;, score=(train=1.000, test=0.355) total time= 3.1min\n",
      "[CV 2/5] END max_features=0.5;, score=(train=1.000, test=0.375) total time= 2.7min\n",
      "[CV 3/5] END max_features=0.5;, score=(train=1.000, test=0.531) total time= 2.9min\n",
      "[CV 4/5] END max_features=0.5;, score=(train=1.000, test=0.434) total time= 3.0min\n",
      "[CV 5/5] END max_features=0.5;, score=(train=1.000, test=0.504) total time= 3.1min\n",
      "[CV 1/5] END max_features=0.7;, score=(train=1.000, test=0.366) total time= 4.4min\n",
      "[CV 2/5] END max_features=0.7;, score=(train=1.000, test=0.447) total time= 3.7min\n",
      "[CV 3/5] END max_features=0.7;, score=(train=1.000, test=0.573) total time= 3.2min\n",
      "[CV 4/5] END max_features=0.7;, score=(train=1.000, test=0.421) total time= 3.1min\n",
      "[CV 5/5] END max_features=0.7;, score=(train=1.000, test=0.534) total time= 3.2min\n",
      "[CV 1/5] END max_features=0.9;, score=(train=1.000, test=0.373) total time= 4.4min\n",
      "[CV 2/5] END max_features=0.9;, score=(train=1.000, test=0.484) total time= 4.9min\n",
      "[CV 3/5] END max_features=0.9;, score=(train=1.000, test=0.580) total time= 5.2min\n",
      "[CV 4/5] END max_features=0.9;, score=(train=1.000, test=0.412) total time= 4.9min\n",
      "[CV 5/5] END max_features=0.9;, score=(train=1.000, test=0.598) total time= 5.2min\n",
      "Execution time for Grid Search 1: 6544.097734928131 seconds\n"
     ]
    },
    {
     "data": {
      "text/plain": [
       "['grid_RF_TIME_b_cv.pkl']"
      ]
     },
     "execution_count": 21,
     "metadata": {},
     "output_type": "execute_result"
    }
   ],
   "source": [
    "# max_features Tunning\n",
    "# Define a grid of values to explore for the 'max_features' hyperparameter.\n",
    "grid = {\n",
    "    'max_features': [0.1, 0.3, 0.5, 0.7, 0.9]\n",
    "}\n",
    "\n",
    "# Create a base Random Forest model for tuning based on the selected n_estimators\n",
    "clf1_t1  = RandomForestClassifier( n_estimators=800,\n",
    "                                   max_features='sqrt',\n",
    "                                   class_weight='balanced',\n",
    "                                   n_jobs=-1,\n",
    "                                   random_state=44)\n",
    "\n",
    "start = time.time()\n",
    "# Create a GridSearchCV object to explore hyperparameters.\n",
    "grid_clf1 = GridSearchCV( estimator= clf1_t1,\n",
    "                            param_grid= grid,\n",
    "                            scoring='f1_macro',\n",
    "                            cv= b_cv,\n",
    "                            verbose=5,\n",
    "                            return_train_score=True)\n",
    "\n",
    "# Fit the grid search to the training data.\n",
    "grid_clf1.fit(X_train, y_train)\n",
    "end = time.time()\n",
    "print(\"Execution time for Grid Search 1:\", end - start, \"seconds\")\n",
    "joblib.dump(grid_clf1, 'grid_RF_TIME_b_cv.pkl')"
   ]
  },
  {
   "cell_type": "code",
   "execution_count": 22,
   "metadata": {
    "tags": []
   },
   "outputs": [
    {
     "data": {
      "text/html": [
       "<div>\n",
       "<style scoped>\n",
       "    .dataframe tbody tr th:only-of-type {\n",
       "        vertical-align: middle;\n",
       "    }\n",
       "\n",
       "    .dataframe tbody tr th {\n",
       "        vertical-align: top;\n",
       "    }\n",
       "\n",
       "    .dataframe thead th {\n",
       "        text-align: right;\n",
       "    }\n",
       "</style>\n",
       "<table border=\"1\" class=\"dataframe\">\n",
       "  <thead>\n",
       "    <tr style=\"text-align: right;\">\n",
       "      <th></th>\n",
       "      <th>params</th>\n",
       "      <th>mean_test_score</th>\n",
       "      <th>std_test_score</th>\n",
       "    </tr>\n",
       "  </thead>\n",
       "  <tbody>\n",
       "    <tr>\n",
       "      <th>0</th>\n",
       "      <td>{'max_features': 0.1}</td>\n",
       "      <td>0.299356</td>\n",
       "      <td>0.068554</td>\n",
       "    </tr>\n",
       "    <tr>\n",
       "      <th>1</th>\n",
       "      <td>{'max_features': 0.3}</td>\n",
       "      <td>0.393056</td>\n",
       "      <td>0.065001</td>\n",
       "    </tr>\n",
       "    <tr>\n",
       "      <th>2</th>\n",
       "      <td>{'max_features': 0.5}</td>\n",
       "      <td>0.439887</td>\n",
       "      <td>0.069059</td>\n",
       "    </tr>\n",
       "    <tr>\n",
       "      <th>3</th>\n",
       "      <td>{'max_features': 0.7}</td>\n",
       "      <td>0.468055</td>\n",
       "      <td>0.075284</td>\n",
       "    </tr>\n",
       "    <tr>\n",
       "      <th>4</th>\n",
       "      <td>{'max_features': 0.9}</td>\n",
       "      <td>0.489298</td>\n",
       "      <td>0.089094</td>\n",
       "    </tr>\n",
       "  </tbody>\n",
       "</table>\n",
       "</div>"
      ],
      "text/plain": [
       "                  params  mean_test_score  std_test_score\n",
       "0  {'max_features': 0.1}         0.299356        0.068554\n",
       "1  {'max_features': 0.3}         0.393056        0.065001\n",
       "2  {'max_features': 0.5}         0.439887        0.069059\n",
       "3  {'max_features': 0.7}         0.468055        0.075284\n",
       "4  {'max_features': 0.9}         0.489298        0.089094"
      ]
     },
     "execution_count": 22,
     "metadata": {},
     "output_type": "execute_result"
    }
   ],
   "source": [
    "# DataFrame to store cross-validation results.\n",
    "results_grid_clf1 = pd.DataFrame()\n",
    "results_grid_clf1 = pd.DataFrame(grid_clf1.cv_results_)[[\"params\", \"mean_test_score\", \"std_test_score\"]]\n",
    "results_grid_clf1"
   ]
  },
  {
   "cell_type": "markdown",
   "metadata": {},
   "source": [
    "**Result Step 2**: The value of **0.7** `max_features` was selected as it achieves the largest average score."
   ]
  },
  {
   "cell_type": "markdown",
   "metadata": {},
   "source": [
    "### 6.3  Third Step: Final Calibration `n_estimators`"
   ]
  },
  {
   "cell_type": "code",
   "execution_count": 23,
   "metadata": {
    "tags": []
   },
   "outputs": [
    {
     "name": "stderr",
     "output_type": "stream",
     "text": [
      "[Parallel(n_jobs=-1)]: Using backend ThreadingBackend with 4 concurrent workers.\n",
      "[Parallel(n_jobs=-1)]: Done  42 tasks      | elapsed:  2.0min\n",
      "[Parallel(n_jobs=-1)]: Done 100 out of 100 | elapsed:  4.4min finished\n",
      "[Parallel(n_jobs=-1)]: Using backend ThreadingBackend with 4 concurrent workers.\n",
      "[Parallel(n_jobs=-1)]: Done  42 tasks      | elapsed:  2.3min\n",
      "[Parallel(n_jobs=-1)]: Done 192 tasks      | elapsed: 14.8min\n",
      "[Parallel(n_jobs=-1)]: Done 200 out of 200 | elapsed: 15.4min finished\n",
      "[Parallel(n_jobs=-1)]: Using backend ThreadingBackend with 4 concurrent workers.\n",
      "[Parallel(n_jobs=-1)]: Done  42 tasks      | elapsed:  4.2min\n",
      "[Parallel(n_jobs=-1)]: Done 192 tasks      | elapsed: 17.9min\n",
      "[Parallel(n_jobs=-1)]: Done 300 out of 300 | elapsed: 27.2min finished\n",
      "[Parallel(n_jobs=-1)]: Using backend ThreadingBackend with 4 concurrent workers.\n",
      "[Parallel(n_jobs=-1)]: Done  42 tasks      | elapsed:  2.9min\n",
      "[Parallel(n_jobs=-1)]: Done 192 tasks      | elapsed: 12.0min\n",
      "[Parallel(n_jobs=-1)]: Done 400 out of 400 | elapsed: 24.7min finished\n",
      "[Parallel(n_jobs=-1)]: Using backend ThreadingBackend with 4 concurrent workers.\n",
      "[Parallel(n_jobs=-1)]: Done  42 tasks      | elapsed:  2.7min\n",
      "[Parallel(n_jobs=-1)]: Done 192 tasks      | elapsed: 12.2min\n",
      "[Parallel(n_jobs=-1)]: Done 442 tasks      | elapsed: 30.4min\n",
      "[Parallel(n_jobs=-1)]: Done 500 out of 500 | elapsed: 33.8min finished\n",
      "[Parallel(n_jobs=-1)]: Using backend ThreadingBackend with 4 concurrent workers.\n",
      "[Parallel(n_jobs=-1)]: Done  42 tasks      | elapsed:  3.0min\n",
      "[Parallel(n_jobs=-1)]: Done 192 tasks      | elapsed: 17.0min\n",
      "[Parallel(n_jobs=-1)]: Done 442 tasks      | elapsed: 31.3min\n",
      "[Parallel(n_jobs=-1)]: Done 600 out of 600 | elapsed: 40.0min finished\n",
      "[Parallel(n_jobs=-1)]: Using backend ThreadingBackend with 4 concurrent workers.\n",
      "[Parallel(n_jobs=-1)]: Done  42 tasks      | elapsed:  3.3min\n",
      "[Parallel(n_jobs=-1)]: Done 192 tasks      | elapsed: 12.3min\n",
      "[Parallel(n_jobs=-1)]: Done 442 tasks      | elapsed: 26.3min\n",
      "[Parallel(n_jobs=-1)]: Done 700 out of 700 | elapsed: 36.7min finished\n",
      "[Parallel(n_jobs=-1)]: Using backend ThreadingBackend with 4 concurrent workers.\n",
      "[Parallel(n_jobs=-1)]: Done  42 tasks      | elapsed:  1.6min\n",
      "[Parallel(n_jobs=-1)]: Done 192 tasks      | elapsed:  6.9min\n",
      "[Parallel(n_jobs=-1)]: Done 442 tasks      | elapsed: 741.0min\n",
      "[Parallel(n_jobs=-1)]: Done 792 tasks      | elapsed: 762.5min\n",
      "[Parallel(n_jobs=-1)]: Done 800 out of 800 | elapsed: 762.9min finished\n",
      "[Parallel(n_jobs=-1)]: Using backend ThreadingBackend with 4 concurrent workers.\n",
      "[Parallel(n_jobs=-1)]: Done  42 tasks      | elapsed:  2.1min\n",
      "[Parallel(n_jobs=-1)]: Done 192 tasks      | elapsed:  8.2min\n",
      "[Parallel(n_jobs=-1)]: Done 442 tasks      | elapsed: 24.2min\n",
      "[Parallel(n_jobs=-1)]: Done 792 tasks      | elapsed: 42.2min\n",
      "[Parallel(n_jobs=-1)]: Done 900 out of 900 | elapsed: 47.3min finished\n",
      "[Parallel(n_jobs=-1)]: Using backend ThreadingBackend with 4 concurrent workers.\n",
      "[Parallel(n_jobs=-1)]: Done  42 tasks      | elapsed:  2.1min\n",
      "[Parallel(n_jobs=-1)]: Done 192 tasks      | elapsed:  9.4min\n",
      "[Parallel(n_jobs=-1)]: Done 442 tasks      | elapsed: 23.7min\n",
      "[Parallel(n_jobs=-1)]: Done 792 tasks      | elapsed: 43.1min\n",
      "[Parallel(n_jobs=-1)]: Done 1000 out of 1000 | elapsed: 56.3min finished\n",
      "[Parallel(n_jobs=-1)]: Using backend ThreadingBackend with 4 concurrent workers.\n",
      "[Parallel(n_jobs=-1)]: Done  42 tasks      | elapsed:  3.3min\n",
      "[Parallel(n_jobs=-1)]: Done 192 tasks      | elapsed: 12.8min\n",
      "[Parallel(n_jobs=-1)]: Done 442 tasks      | elapsed: 29.3min\n",
      "[Parallel(n_jobs=-1)]: Done 792 tasks      | elapsed: 90.1min\n",
      "[Parallel(n_jobs=-1)]: Done 1100 out of 1100 | elapsed: 117.3min finished\n",
      "[Parallel(n_jobs=-1)]: Using backend ThreadingBackend with 4 concurrent workers.\n",
      "[Parallel(n_jobs=-1)]: Done  42 tasks      | elapsed:  4.9min\n",
      "[Parallel(n_jobs=-1)]: Done 192 tasks      | elapsed: 17.9min\n",
      "[Parallel(n_jobs=-1)]: Done 442 tasks      | elapsed: 38.9min\n",
      "[Parallel(n_jobs=-1)]: Done 792 tasks      | elapsed: 91.1min\n"
     ]
    },
    {
     "ename": "KeyboardInterrupt",
     "evalue": "",
     "output_type": "error",
     "traceback": [
      "\u001b[1;31m---------------------------------------------------------------------------\u001b[0m",
      "\u001b[1;31mKeyboardInterrupt\u001b[0m                         Traceback (most recent call last)",
      "\u001b[1;32m~\\AppData\\Local\\Temp\\ipykernel_21052\\3988858080.py\u001b[0m in \u001b[0;36m<module>\u001b[1;34m\u001b[0m\n\u001b[0;32m      6\u001b[0m                                    random_state=44)\n\u001b[0;32m      7\u001b[0m \u001b[1;33m\u001b[0m\u001b[0m\n\u001b[1;32m----> 8\u001b[1;33m \u001b[0mplot_oob_error_vs_n_estimators\u001b[0m\u001b[1;33m(\u001b[0m\u001b[0mstep\u001b[0m\u001b[1;33m=\u001b[0m\u001b[1;36m100\u001b[0m\u001b[1;33m,\u001b[0m \u001b[0mrf_model\u001b[0m\u001b[1;33m=\u001b[0m\u001b[0mclf1_t2\u001b[0m\u001b[1;33m,\u001b[0m \u001b[0mX_train\u001b[0m\u001b[1;33m=\u001b[0m\u001b[0mX_train\u001b[0m\u001b[1;33m,\u001b[0m \u001b[0my_train\u001b[0m\u001b[1;33m=\u001b[0m\u001b[0my_train\u001b[0m\u001b[1;33m)\u001b[0m\u001b[1;33m\u001b[0m\u001b[1;33m\u001b[0m\u001b[0m\n\u001b[0m",
      "\u001b[1;32m~\\AppData\\Local\\Temp\\ipykernel_21052\\3903667473.py\u001b[0m in \u001b[0;36mplot_oob_error_vs_n_estimators\u001b[1;34m(step, rf_model, X_train, y_train)\u001b[0m\n\u001b[0;32m     24\u001b[0m \u001b[1;33m\u001b[0m\u001b[0m\n\u001b[0;32m     25\u001b[0m         \u001b[1;31m# Fit the classifier on the training data.\u001b[0m\u001b[1;33m\u001b[0m\u001b[1;33m\u001b[0m\u001b[0m\n\u001b[1;32m---> 26\u001b[1;33m         \u001b[0mrf_model\u001b[0m\u001b[1;33m.\u001b[0m\u001b[0mfit\u001b[0m\u001b[1;33m(\u001b[0m\u001b[0mX_train\u001b[0m\u001b[1;33m,\u001b[0m \u001b[0my_train\u001b[0m\u001b[1;33m)\u001b[0m\u001b[1;33m\u001b[0m\u001b[1;33m\u001b[0m\u001b[0m\n\u001b[0m\u001b[0;32m     27\u001b[0m \u001b[1;33m\u001b[0m\u001b[0m\n\u001b[0;32m     28\u001b[0m         \u001b[1;31m# Record the OOB error rate for the current \"n_estimators=i\" setting.\u001b[0m\u001b[1;33m\u001b[0m\u001b[1;33m\u001b[0m\u001b[0m\n",
      "\u001b[1;32mc:\\Users\\Admin\\anaconda3\\lib\\site-packages\\sklearn\\ensemble\\_forest.py\u001b[0m in \u001b[0;36mfit\u001b[1;34m(self, X, y, sample_weight)\u001b[0m\n\u001b[0;32m    448\u001b[0m             \u001b[1;31m# parallel_backend contexts set at a higher level,\u001b[0m\u001b[1;33m\u001b[0m\u001b[1;33m\u001b[0m\u001b[0m\n\u001b[0;32m    449\u001b[0m             \u001b[1;31m# since correctness does not rely on using threads.\u001b[0m\u001b[1;33m\u001b[0m\u001b[1;33m\u001b[0m\u001b[0m\n\u001b[1;32m--> 450\u001b[1;33m             trees = Parallel(\n\u001b[0m\u001b[0;32m    451\u001b[0m                 \u001b[0mn_jobs\u001b[0m\u001b[1;33m=\u001b[0m\u001b[0mself\u001b[0m\u001b[1;33m.\u001b[0m\u001b[0mn_jobs\u001b[0m\u001b[1;33m,\u001b[0m\u001b[1;33m\u001b[0m\u001b[1;33m\u001b[0m\u001b[0m\n\u001b[0;32m    452\u001b[0m                 \u001b[0mverbose\u001b[0m\u001b[1;33m=\u001b[0m\u001b[0mself\u001b[0m\u001b[1;33m.\u001b[0m\u001b[0mverbose\u001b[0m\u001b[1;33m,\u001b[0m\u001b[1;33m\u001b[0m\u001b[1;33m\u001b[0m\u001b[0m\n",
      "\u001b[1;32mc:\\Users\\Admin\\anaconda3\\lib\\site-packages\\joblib\\parallel.py\u001b[0m in \u001b[0;36m__call__\u001b[1;34m(self, iterable)\u001b[0m\n\u001b[0;32m   1950\u001b[0m         \u001b[0mnext\u001b[0m\u001b[1;33m(\u001b[0m\u001b[0moutput\u001b[0m\u001b[1;33m)\u001b[0m\u001b[1;33m\u001b[0m\u001b[1;33m\u001b[0m\u001b[0m\n\u001b[0;32m   1951\u001b[0m \u001b[1;33m\u001b[0m\u001b[0m\n\u001b[1;32m-> 1952\u001b[1;33m         \u001b[1;32mreturn\u001b[0m \u001b[0moutput\u001b[0m \u001b[1;32mif\u001b[0m \u001b[0mself\u001b[0m\u001b[1;33m.\u001b[0m\u001b[0mreturn_generator\u001b[0m \u001b[1;32melse\u001b[0m \u001b[0mlist\u001b[0m\u001b[1;33m(\u001b[0m\u001b[0moutput\u001b[0m\u001b[1;33m)\u001b[0m\u001b[1;33m\u001b[0m\u001b[1;33m\u001b[0m\u001b[0m\n\u001b[0m\u001b[0;32m   1953\u001b[0m \u001b[1;33m\u001b[0m\u001b[0m\n\u001b[0;32m   1954\u001b[0m     \u001b[1;32mdef\u001b[0m \u001b[0m__repr__\u001b[0m\u001b[1;33m(\u001b[0m\u001b[0mself\u001b[0m\u001b[1;33m)\u001b[0m\u001b[1;33m:\u001b[0m\u001b[1;33m\u001b[0m\u001b[1;33m\u001b[0m\u001b[0m\n",
      "\u001b[1;32mc:\\Users\\Admin\\anaconda3\\lib\\site-packages\\joblib\\parallel.py\u001b[0m in \u001b[0;36m_get_outputs\u001b[1;34m(self, iterator, pre_dispatch)\u001b[0m\n\u001b[0;32m   1593\u001b[0m \u001b[1;33m\u001b[0m\u001b[0m\n\u001b[0;32m   1594\u001b[0m             \u001b[1;32mwith\u001b[0m \u001b[0mself\u001b[0m\u001b[1;33m.\u001b[0m\u001b[0m_backend\u001b[0m\u001b[1;33m.\u001b[0m\u001b[0mretrieval_context\u001b[0m\u001b[1;33m(\u001b[0m\u001b[1;33m)\u001b[0m\u001b[1;33m:\u001b[0m\u001b[1;33m\u001b[0m\u001b[1;33m\u001b[0m\u001b[0m\n\u001b[1;32m-> 1595\u001b[1;33m                 \u001b[1;32myield\u001b[0m \u001b[1;32mfrom\u001b[0m \u001b[0mself\u001b[0m\u001b[1;33m.\u001b[0m\u001b[0m_retrieve\u001b[0m\u001b[1;33m(\u001b[0m\u001b[1;33m)\u001b[0m\u001b[1;33m\u001b[0m\u001b[1;33m\u001b[0m\u001b[0m\n\u001b[0m\u001b[0;32m   1596\u001b[0m \u001b[1;33m\u001b[0m\u001b[0m\n\u001b[0;32m   1597\u001b[0m         \u001b[1;32mexcept\u001b[0m \u001b[0mGeneratorExit\u001b[0m\u001b[1;33m:\u001b[0m\u001b[1;33m\u001b[0m\u001b[1;33m\u001b[0m\u001b[0m\n",
      "\u001b[1;32mc:\\Users\\Admin\\anaconda3\\lib\\site-packages\\joblib\\parallel.py\u001b[0m in \u001b[0;36m_retrieve\u001b[1;34m(self)\u001b[0m\n\u001b[0;32m   1705\u001b[0m                 (self._jobs[0].get_status(\n\u001b[0;32m   1706\u001b[0m                     timeout=self.timeout) == TASK_PENDING)):\n\u001b[1;32m-> 1707\u001b[1;33m                 \u001b[0mtime\u001b[0m\u001b[1;33m.\u001b[0m\u001b[0msleep\u001b[0m\u001b[1;33m(\u001b[0m\u001b[1;36m0.01\u001b[0m\u001b[1;33m)\u001b[0m\u001b[1;33m\u001b[0m\u001b[1;33m\u001b[0m\u001b[0m\n\u001b[0m\u001b[0;32m   1708\u001b[0m                 \u001b[1;32mcontinue\u001b[0m\u001b[1;33m\u001b[0m\u001b[1;33m\u001b[0m\u001b[0m\n\u001b[0;32m   1709\u001b[0m \u001b[1;33m\u001b[0m\u001b[0m\n",
      "\u001b[1;31mKeyboardInterrupt\u001b[0m: "
     ]
    }
   ],
   "source": [
    "# n_estimators Second Tunning\n",
    "clf1_t2  = RandomForestClassifier( max_features= 0.9,\n",
    "                                   class_weight='balanced',\n",
    "                                   oob_score= f1_score_macro_metric,\n",
    "                                   n_jobs=-1,\n",
    "                                   random_state=44)\n",
    "\n",
    "plot_oob_error_vs_n_estimators(step=100, rf_model=clf1_t2, X_train=X_train, y_train=y_train)"
   ]
  },
  {
   "cell_type": "markdown",
   "metadata": {},
   "source": [
    "**Result Step 3**: The value of **800** `n_estimators` continued to be an stable value"
   ]
  },
  {
   "cell_type": "markdown",
   "metadata": {
    "tags": []
   },
   "source": [
    "***\n",
    "## 7. Performance Evaluation: Tuned Model 1 <a id='c.7'></a>\n",
    "***\n",
    "Below, the classification report and the confusion matrix is displayed for the tuned model. \n",
    "\n",
    "**Result**: Compared to the results achieved with Logistic Regression, this model has better performance across all metrics, not only for the majority class but also for the minority classes. Nevertheless, the performance is not optimal. The f1_macro score obtained is 0.24, with individual f1_scores exceeding 0.5 only for the majority class. Conversely, the minority classes display values below 0.25. This indicate a high presence of false positives and false negatives, highlighting the model's difficulty in correctly classifying relevant instances across all classes."
   ]
  },
  {
   "cell_type": "code",
   "execution_count": null,
   "metadata": {},
   "outputs": [],
   "source": [
    "# Tuned Model 1\n",
    "clf1_t3= RandomForestClassifier(n_estimators= 800,\n",
    "                                max_features= 0.7,\n",
    "                                class_weight='balanced',\n",
    "                                n_jobs=-1,\n",
    "                                random_state=44)\n",
    "clf1_t3.fit(X_train, y_train)"
   ]
  },
  {
   "cell_type": "code",
   "execution_count": null,
   "metadata": {},
   "outputs": [],
   "source": [
    "# Performance Evaluation Tuned Model 1\n",
    "y_pred_clf1_t3= clf1_t3.predict(X_test)\n",
    "evaluate_model_performance(y_test, y_pred_clf1_t3)"
   ]
  },
  {
   "cell_type": "markdown",
   "metadata": {},
   "source": [
    "***\n",
    "## 8. Explanatory Variables Importance and Selection <a id='c.8'></a>\n",
    "***\n",
    "Considering the model's poor performance and the high dimensionality of the data, which consists of 73 variables, the aim of this section is to select a subset of variables by retaining only those that have the most significant influence."
   ]
  },
  {
   "cell_type": "markdown",
   "metadata": {},
   "source": [
    "### 8.1  Variables importance based on MDI Vs. MDA\n",
    "To check for the variables importance, two methods were compared: \n",
    "1. **MDI**: impurity-based feature importance of the RandomForestClassifier \n",
    "2. **MDA**: based on permutation importance with mean f1_macro score decrease \n",
    "\n",
    "The MDI (Mean Decrease in Impurity) method offers the advantage of being calculated during the training phase, making it easily accessible by only invoking the `feature_importances_` property of the trained model. In contrast, the MDA (Mean Decrease in Accuracy) method is computed using the [permutation_importance](https://scikit-learn.org/stable/modules/generated/sklearn.inspection.permutation_importance.html#sklearn.inspection.permutation_importance) function, which can be time-consuming as it involves permuting each variable column and evaluating the resulting performance changes. \n",
    "\n",
    "However, MDA provides a distinct approach to compute variable importances and helps to check the consistency of a variable's importance across both methods."
   ]
  },
  {
   "cell_type": "code",
   "execution_count": null,
   "metadata": {},
   "outputs": [],
   "source": [
    "# MDI - feature_importances_\n",
    "mdi_importances = clf1_t3.feature_importances_\n",
    "mdi_importances_idx= mdi_importances.argsort()[::-1][:40]"
   ]
  },
  {
   "cell_type": "code",
   "execution_count": null,
   "metadata": {
    "tags": []
   },
   "outputs": [],
   "source": [
    "# MDA - feature permutation\n",
    "start = time.time()\n",
    "mda_importances = permutation_importance(clf1_t3, \n",
    "                                         X_train, \n",
    "                                         y_train,  \n",
    "                                         scoring='f1_macro',\n",
    "                                         n_repeats=5,  \n",
    "                                         n_jobs=-1, \n",
    "                                         random_state=44)\n",
    "end = time.time()\n",
    "print(\"Execution time calculation mda_importances:\", end - start, \"seconds\")\n",
    "joblib.dump(mda_importances, 'mda_importances.pkl')"
   ]
  },
  {
   "cell_type": "code",
   "execution_count": null,
   "metadata": {
    "tags": []
   },
   "outputs": [],
   "source": [
    "mda_importances_idx= mda_importances.importances_mean.argsort()[::-1][:40]"
   ]
  },
  {
   "cell_type": "code",
   "execution_count": null,
   "metadata": {},
   "outputs": [],
   "source": [
    "# Plot MDI Vs. MDA most important features\n",
    "# https://scikit-learn.org/stable/auto_examples/inspection/plot_permutation_importance_multicollinear.html\n",
    "fig, (ax1, ax2) = plt.subplots(1, 2, figsize=(12, 10),gridspec_kw={'width_ratios': [2, 3]})\n",
    "ax1.barh(X_train.columns[mdi_importances_idx], mdi_importances[mdi_importances_idx])\n",
    "ax1.set_xlabel(\"Gini importance\")\n",
    "ax2.boxplot( mda_importances.importances[mda_importances_idx].T,\n",
    "             vert=False,\n",
    "             labels=X_train.columns[mda_importances_idx])\n",
    "ax2.axvline(x=0, color=\"k\", linestyle=\"--\")\n",
    "ax2.set_xlabel(\"Decrease in f1_macro score\")\n",
    "fig.suptitle(\"Feature Importance based on MDI: Impurity-based Vs. MDA: Permutation importances\")\n",
    "_ = fig.tight_layout()"
   ]
  },
  {
   "cell_type": "markdown",
   "metadata": {},
   "source": [
    "**Result**: After evaluating both plots, each displaying the top 40 variables from their respective methods, it is clear that 'doy,' 'year,' 'lat,' and 'lon' are the most important variables. However, while the MDI method also highlights the significance of weather and soil variables in predicting Drought Categories, which is as expected, the results from MDA essentially indicate that, apart from the mentioned variables, only 'elevation', 'aspectW'and 'slope6' further contribute.\n",
    "\n",
    "As a result, we created a variable subset by combining the top 40 variables identified by the MDI method."
   ]
  },
  {
   "cell_type": "code",
   "execution_count": null,
   "metadata": {},
   "outputs": [],
   "source": [
    "# First subset of variables based on MDI importances\n",
    "X_train_filtered_1= X_train[X_train.columns[mdi_importances_idx]]\n",
    "X_test_filtered_1=  X_test[X_train.columns[mdi_importances_idx]]"
   ]
  },
  {
   "cell_type": "markdown",
   "metadata": {},
   "source": [
    "### 8.2  Feature Selection using RFECV\n",
    "We took then the subset of variables we had previously identified and retrained the tuned model again. Following this, we employed the Recursive Feature Elimination with Cross-Validation (RFECV) method to investigate whether all the variables in the subset actually were impacting the trained model or if it was possible to further subset the variables.\n",
    "\n",
    "We chose RFECV because it is a wrapper method that, unlike Recursive Feature Elimination (RFE), does not require an initial specification of the number of variables to keep. Instead, it dynamically determines the optimal number by checking whether there is an improvement in the cross-validation score when variables are removed. "
   ]
  },
  {
   "cell_type": "code",
   "execution_count": null,
   "metadata": {},
   "outputs": [],
   "source": [
    "# Retrain Tuned Model 1 with first subset of variables \n",
    "clf1_t3.fit(X_train_filtered_1, y_train)"
   ]
  },
  {
   "cell_type": "code",
   "execution_count": null,
   "metadata": {},
   "outputs": [],
   "source": [
    "# RFECV for final subset of variables\n",
    "start = time.time()\n",
    "cv = StratifiedKFold(3, shuffle=True, random_state=44)\n",
    "rfecv = RFECV(clf1_t3,\n",
    "              step=2, \n",
    "              cv=cv,\n",
    "              scoring='f1_macro',\n",
    "              min_features_to_select=20,\n",
    "              verbose=5)\n",
    "\n",
    "rfecv.fit(X_train_filtered_1, y_train)\n",
    "end = time.time()\n",
    "print(\"Execution time RFECV\", end - start, \"seconds\")\n",
    "joblib.dump(rfecv, 'rfecv.pkl')"
   ]
  },
  {
   "cell_type": "markdown",
   "metadata": {},
   "source": [
    "As observed in the logs from the previous cell, the RFECV process is computationally expensive. Despite efforts to optimize its performance, such as reducing the cross-validation (`cv`) folds from 5 to 3, increasing the `step` size to remove 2 variables per iteration, and setting a minimum feature selection (`min_features_to_select`) threshold of 20, the process still took over an hour to complete.\n",
    "\n",
    "**Result**: The output of the RFECV process indicates that from the initial subset of 40 variables, it selected 22 features through cross-validation. These selected variables are listed below:"
   ]
  },
  {
   "cell_type": "code",
   "execution_count": null,
   "metadata": {
    "tags": []
   },
   "outputs": [],
   "source": [
    "# RFECV optimal variables\n",
    "print(f\"Optimal number of features: {rfecv.n_features_}\")\n",
    "rfecv_df = pd.DataFrame(rfecv.ranking_,index=X_train_filtered_1.columns,columns=['Rank']).sort_values(by='Rank',ascending=True)\n",
    "rfecv_df.head(20)"
   ]
  },
  {
   "cell_type": "code",
   "execution_count": null,
   "metadata": {
    "tags": []
   },
   "outputs": [],
   "source": [
    "# Final subset of variables\n",
    "support_mask = rfecv.support_\n",
    "X_train_filtered_2= X_train_filtered_1.loc[:, support_mask]\n",
    "X_test_filtered_2=  X_test_filtered_1.loc[:, support_mask]"
   ]
  },
  {
   "cell_type": "markdown",
   "metadata": {},
   "source": [
    "***\n",
    "## 9. Hyperparameters Tunning after Variables Selection <a id='c.9'></a>\n",
    "***\n",
    "\n",
    "Taking into account the significantly reduced number of variables, which represents a substantial modification in the training set, we repeated the hyperparameter tuning steps outlined in [Section 6](#c6). However, this time we applied these steps exclusively to the final subset of variables."
   ]
  },
  {
   "cell_type": "markdown",
   "metadata": {
    "tags": []
   },
   "source": [
    "### 9.1 First Step: Intial Calibration `n_estimators`"
   ]
  },
  {
   "cell_type": "code",
   "execution_count": null,
   "metadata": {
    "tags": []
   },
   "outputs": [],
   "source": [
    "# n_estimators First Tunning\n",
    "clf3 = RandomForestClassifier(max_features= 'sqrt',\n",
    "                              class_weight= 'balanced',\n",
    "                              oob_score= f1_score_macro_metric,\n",
    "                              n_jobs= -1,\n",
    "                              random_state= 44)\n",
    "\n",
    "plot_oob_error_vs_n_estimators(step=100, rf_model=clf3, X_train=X_train_filtered_2, y_train=y_train)"
   ]
  },
  {
   "cell_type": "markdown",
   "metadata": {},
   "source": [
    "**Result Step 1**: After checking the plot, the value of **700** for `n_estimators` was chosen, as it stabilizes the OOB error."
   ]
  },
  {
   "cell_type": "markdown",
   "metadata": {},
   "source": [
    "### 9.2 Second Step: Calibration `max_features`"
   ]
  },
  {
   "cell_type": "code",
   "execution_count": null,
   "metadata": {
    "tags": []
   },
   "outputs": [],
   "source": [
    "# max_features Tunning\n",
    "# Define a grid of values to explore for the 'max_features' hyperparameter.\n",
    "grid = {\n",
    "    'max_features': [0.1, 0.3, 0.5, 0.7, 0.9]\n",
    "}\n",
    "\n",
    "# Create a base Random Forest model for tuning based on the selected n_estimators\n",
    "clf3_t1  = RandomForestClassifier( n_estimators= 700,\n",
    "                                   class_weight='balanced',\n",
    "                                   n_jobs=-1,\n",
    "                                   random_state=44)\n",
    "\n",
    "start = time.time()\n",
    "# Create a GridSearchCV object to explore hyperparameters.\n",
    "cv = StratifiedKFold(n_splits=3, shuffle=True, random_state=44)\n",
    "grid_clf3 = GridSearchCV( estimator= clf3_t1,\n",
    "                            param_grid= grid,\n",
    "                            scoring='f1_macro',\n",
    "                            cv= cv,\n",
    "                            verbose=5,\n",
    "                            return_train_score=True)\n",
    "\n",
    "# Fit the grid search to the training data.\n",
    "grid_clf3.fit(X_train_filtered_2, y_train)\n",
    "end = time.time()\n",
    "print(\"Execution time for Grid Search 2:\", end - start, \"seconds\")\n",
    "joblib.dump(grid_clf3, 'grid_2_clf3_RF.pkl')"
   ]
  },
  {
   "cell_type": "code",
   "execution_count": null,
   "metadata": {
    "tags": []
   },
   "outputs": [],
   "source": [
    "# DataFrame to store cross-validation results.\n",
    "results_grid_clf3 = pd.DataFrame()\n",
    "results_grid_clf3 = pd.DataFrame(grid_clf3.cv_results_)[[\"params\", \"mean_test_score\", \"std_test_score\"]]\n",
    "results_grid_clf3"
   ]
  },
  {
   "cell_type": "markdown",
   "metadata": {},
   "source": [
    "**Result Step 2**: The value of **0.9** `max_features` was selected as it achieved the highest average score."
   ]
  },
  {
   "cell_type": "markdown",
   "metadata": {},
   "source": [
    "### 9.3 Third Step: Final Calibration `n_estimators`"
   ]
  },
  {
   "cell_type": "code",
   "execution_count": null,
   "metadata": {
    "tags": []
   },
   "outputs": [],
   "source": [
    "# n_estimators Second Tunning\n",
    "clf3_t2  = RandomForestClassifier(max_features= 0.9,\n",
    "                                   class_weight='balanced',\n",
    "                                   oob_score= f1_score_macro_metric,\n",
    "                                   n_jobs=-1,\n",
    "                                   random_state=44)\n",
    "\n",
    "plot_oob_error_vs_n_estimators(step=100, rf_model=clf3_t2, X_train=X_train_filtered_2, y_train=y_train)"
   ]
  },
  {
   "cell_type": "markdown",
   "metadata": {},
   "source": [
    "**Result Step 3**: The variation in the max_features value caused the stabilization of `n_estimators` at an earlier point, specifically at **400**."
   ]
  },
  {
   "cell_type": "markdown",
   "metadata": {
    "tags": []
   },
   "source": [
    "***\n",
    "## 10. Performance Evaluation: Tuned Model after Variables Selection <a id='c.10'></a>\n",
    "***"
   ]
  },
  {
   "cell_type": "code",
   "execution_count": null,
   "metadata": {
    "tags": []
   },
   "outputs": [],
   "source": [
    "# Tuned Model after Variables Selection\n",
    "clf3_t3= RandomForestClassifier(n_estimators= 400,\n",
    "                                max_features= 0.9,\n",
    "                                class_weight='balanced',\n",
    "                                n_jobs=-1,\n",
    "                                random_state=44)\n",
    "clf3_t3.fit(X_train_filtered_2, y_train)\n",
    "joblib.dump(clf3_t3, 'Model_Tuned_2.pkl')"
   ]
  },
  {
   "cell_type": "code",
   "execution_count": null,
   "metadata": {
    "tags": []
   },
   "outputs": [],
   "source": [
    "# Performance Evaluation Tuned Model after Variables Selection\n",
    "y_pred_clf3_t3= clf3_t3.predict(X_test_filtered_2)\n",
    "evaluate_model_performance(y_test, y_pred_clf3_t3)"
   ]
  },
  {
   "cell_type": "markdown",
   "metadata": {},
   "source": [
    "***\n",
    "## 11. Comparison of Tuned Models <a id='c.11'></a>\n",
    "***"
   ]
  },
  {
   "cell_type": "markdown",
   "metadata": {},
   "source": [
    "When comparing the performance evaluation of the first tuned model ([Section 7 Performance Evaluation: Tuned Model 1 ](#c7)), which was trained using all 73 initial explanatory variables, with the last tuned model([Section 10 Performance Evaluation: Tuned Model after Variables Selection](#c10)), trained with the final subset of variables selected after MDI and RFECV, both models exhibit similar output f1_score regarding precision, recall, and accuracy for individual classes as well as on average. This suggests that enhancing a highly imbalanced dataset is a challenging task. Furthermore, the similarity in performance between the two models indicates that no essential variables were omitted, and for future milestones, we can begin training directly with the subset. This approach can lead to improved training times due to reduced complexity without compromising model performance.\n",
    "\n",
    "Despite the different approaches applied to enhance performance, the Precision-Recall curves continue to exhibit limited skill in the case of minority classes. For our upcoming milestone,  our primary goal is to investigate alternative algorithms that might offer better performance enhancements. Nevertheless, our current efforts with Logistic Regression and Random Forest have demonstrated  that achieving this improvement is exceptionally challenging. "
   ]
  },
  {
   "cell_type": "code",
   "execution_count": null,
   "metadata": {
    "tags": []
   },
   "outputs": [],
   "source": [
    "# Precision Recall Curves after Variables Selection\n",
    "plot_precision_recall_curves(clf3_t3, X_test_filtered_2, y_test)"
   ]
  },
  {
   "cell_type": "markdown",
   "metadata": {
    "tags": []
   },
   "source": [
    "***\n",
    "## 12. References <a id='c.12'></a>\n",
    "***\n",
    "\n",
    "* Filho, M (2023, June 29). Does Random Forest Need Feature Scaling or Normalization?. Retrieved November 4, 2023, from https://forecastegy.com/posts/does-random-forest-need-feature-scaling-or-normalization/\n",
    "* He, H., & Ma, Y. (2013). Imbalanced Learning: Foundations, Algorithms, and Applications (1st ed.). Wiley-IEEE Press.\n",
    "* Srivastava, T. (2023, August 22). Tuning the parameters of your Random Forest model. Retrieved November 4, 2023, from https://www.analyticsvidhya.com/blog/2015/06/tuning-random-forest-model/"
   ]
  }
 ],
 "metadata": {
  "accelerator": "GPU",
  "colab": {
   "gpuType": "T4",
   "provenance": []
  },
  "kernelspec": {
   "display_name": "Python 3 (ipykernel)",
   "language": "python",
   "name": "python3"
  },
  "language_info": {
   "codemirror_mode": {
    "name": "ipython",
    "version": 3
   },
   "file_extension": ".py",
   "mimetype": "text/x-python",
   "name": "python",
   "nbconvert_exporter": "python",
   "pygments_lexer": "ipython3",
   "version": "3.9.13"
  }
 },
 "nbformat": 4,
 "nbformat_minor": 4
}
