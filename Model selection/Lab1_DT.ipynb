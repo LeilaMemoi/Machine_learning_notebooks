{
 "cells": [
  {
   "cell_type": "markdown",
   "metadata": {},
   "source": [
    "# LAB SESSION 1 - DECISION TREES"
   ]
  },
  {
   "cell_type": "markdown",
   "metadata": {},
   "source": [
    "## Utils"
   ]
  },
  {
   "cell_type": "code",
   "execution_count": 3,
   "metadata": {},
   "outputs": [],
   "source": [
    "#conda install -c conda-forge scikit-learn, pandas "
   ]
  },
  {
   "cell_type": "code",
   "execution_count": 4,
   "metadata": {},
   "outputs": [],
   "source": [
    "#conda install seaborn\n",
    "import numpy as np\n",
    "import pandas as pd\n",
    "import matplotlib.pyplot as plt\n",
    "import seaborn as sns\n",
    "from sklearn.model_selection import train_test_split"
   ]
  },
  {
   "cell_type": "markdown",
   "metadata": {},
   "source": [
    "## Ex 1: introduction to classification trees"
   ]
  },
  {
   "cell_type": "markdown",
   "metadata": {},
   "source": [
    "We work with the palmerpenguins dataset (see the dataset document https://allisonhorst.github.io/palmerpenguins/).\n",
    "\n",
    "\n",
    "**Question 0. First of all,**\n",
    " - **load the data and look at them (display the dimension and some descriptive statistics)**\n",
    " - **visualize the data.**\n",
    " - **select the variables that we will use in the exercise. Create a variable `target` with the the names of the target variable `species` and create also the array `features` which contains the names of the two predictors: `bill_length_mm`, `bill_depth_mm`.**\n",
    " - **split the dataset into a training and testing dataset (use the value 1023 for `random_state` and the porportion 25% for the test set).** "
   ]
  },
  {
   "cell_type": "code",
   "execution_count": 5,
   "metadata": {
    "tags": []
   },
   "outputs": [
    {
     "name": "stdout",
     "output_type": "stream",
     "text": [
      "(333, 8)\n"
     ]
    },
    {
     "data": {
      "text/html": [
       "<div>\n",
       "<style scoped>\n",
       "    .dataframe tbody tr th:only-of-type {\n",
       "        vertical-align: middle;\n",
       "    }\n",
       "\n",
       "    .dataframe tbody tr th {\n",
       "        vertical-align: top;\n",
       "    }\n",
       "\n",
       "    .dataframe thead th {\n",
       "        text-align: right;\n",
       "    }\n",
       "</style>\n",
       "<table border=\"1\" class=\"dataframe\">\n",
       "  <thead>\n",
       "    <tr style=\"text-align: right;\">\n",
       "      <th></th>\n",
       "      <th>species</th>\n",
       "      <th>island</th>\n",
       "      <th>bill_length_mm</th>\n",
       "      <th>bill_depth_mm</th>\n",
       "      <th>flipper_length_mm</th>\n",
       "      <th>body_mass_g</th>\n",
       "      <th>sex</th>\n",
       "      <th>year</th>\n",
       "    </tr>\n",
       "  </thead>\n",
       "  <tbody>\n",
       "    <tr>\n",
       "      <th>0</th>\n",
       "      <td>Adelie</td>\n",
       "      <td>Torgersen</td>\n",
       "      <td>39.1</td>\n",
       "      <td>18.7</td>\n",
       "      <td>181</td>\n",
       "      <td>3750</td>\n",
       "      <td>male</td>\n",
       "      <td>2007</td>\n",
       "    </tr>\n",
       "    <tr>\n",
       "      <th>1</th>\n",
       "      <td>Adelie</td>\n",
       "      <td>Torgersen</td>\n",
       "      <td>39.5</td>\n",
       "      <td>17.4</td>\n",
       "      <td>186</td>\n",
       "      <td>3800</td>\n",
       "      <td>female</td>\n",
       "      <td>2007</td>\n",
       "    </tr>\n",
       "    <tr>\n",
       "      <th>2</th>\n",
       "      <td>Adelie</td>\n",
       "      <td>Torgersen</td>\n",
       "      <td>40.3</td>\n",
       "      <td>18.0</td>\n",
       "      <td>195</td>\n",
       "      <td>3250</td>\n",
       "      <td>female</td>\n",
       "      <td>2007</td>\n",
       "    </tr>\n",
       "    <tr>\n",
       "      <th>3</th>\n",
       "      <td>Adelie</td>\n",
       "      <td>Torgersen</td>\n",
       "      <td>36.7</td>\n",
       "      <td>19.3</td>\n",
       "      <td>193</td>\n",
       "      <td>3450</td>\n",
       "      <td>female</td>\n",
       "      <td>2007</td>\n",
       "    </tr>\n",
       "    <tr>\n",
       "      <th>4</th>\n",
       "      <td>Adelie</td>\n",
       "      <td>Torgersen</td>\n",
       "      <td>39.3</td>\n",
       "      <td>20.6</td>\n",
       "      <td>190</td>\n",
       "      <td>3650</td>\n",
       "      <td>male</td>\n",
       "      <td>2007</td>\n",
       "    </tr>\n",
       "  </tbody>\n",
       "</table>\n",
       "</div>"
      ],
      "text/plain": [
       "  species     island  bill_length_mm  bill_depth_mm  flipper_length_mm  \\\n",
       "0  Adelie  Torgersen            39.1           18.7                181   \n",
       "1  Adelie  Torgersen            39.5           17.4                186   \n",
       "2  Adelie  Torgersen            40.3           18.0                195   \n",
       "3  Adelie  Torgersen            36.7           19.3                193   \n",
       "4  Adelie  Torgersen            39.3           20.6                190   \n",
       "\n",
       "   body_mass_g     sex  year  \n",
       "0         3750    male  2007  \n",
       "1         3800  female  2007  \n",
       "2         3250  female  2007  \n",
       "3         3450  female  2007  \n",
       "4         3650    male  2007  "
      ]
     },
     "execution_count": 5,
     "metadata": {},
     "output_type": "execute_result"
    }
   ],
   "source": [
    "# (1) \n",
    "penguins=pd.read_csv(\"penguins.csv\")\n",
    "print(penguins.shape)\n",
    "penguins.head()"
   ]
  },
  {
   "cell_type": "code",
   "execution_count": 6,
   "metadata": {},
   "outputs": [
    {
     "data": {
      "text/html": [
       "<div>\n",
       "<style scoped>\n",
       "    .dataframe tbody tr th:only-of-type {\n",
       "        vertical-align: middle;\n",
       "    }\n",
       "\n",
       "    .dataframe tbody tr th {\n",
       "        vertical-align: top;\n",
       "    }\n",
       "\n",
       "    .dataframe thead th {\n",
       "        text-align: right;\n",
       "    }\n",
       "</style>\n",
       "<table border=\"1\" class=\"dataframe\">\n",
       "  <thead>\n",
       "    <tr style=\"text-align: right;\">\n",
       "      <th></th>\n",
       "      <th>bill_length_mm</th>\n",
       "      <th>bill_depth_mm</th>\n",
       "      <th>flipper_length_mm</th>\n",
       "      <th>body_mass_g</th>\n",
       "      <th>year</th>\n",
       "    </tr>\n",
       "  </thead>\n",
       "  <tbody>\n",
       "    <tr>\n",
       "      <th>count</th>\n",
       "      <td>333.000000</td>\n",
       "      <td>333.000000</td>\n",
       "      <td>333.000000</td>\n",
       "      <td>333.000000</td>\n",
       "      <td>333.000000</td>\n",
       "    </tr>\n",
       "    <tr>\n",
       "      <th>mean</th>\n",
       "      <td>43.992793</td>\n",
       "      <td>17.164865</td>\n",
       "      <td>200.966967</td>\n",
       "      <td>4207.057057</td>\n",
       "      <td>2008.042042</td>\n",
       "    </tr>\n",
       "    <tr>\n",
       "      <th>std</th>\n",
       "      <td>5.468668</td>\n",
       "      <td>1.969235</td>\n",
       "      <td>14.015765</td>\n",
       "      <td>805.215802</td>\n",
       "      <td>0.812944</td>\n",
       "    </tr>\n",
       "    <tr>\n",
       "      <th>min</th>\n",
       "      <td>32.100000</td>\n",
       "      <td>13.100000</td>\n",
       "      <td>172.000000</td>\n",
       "      <td>2700.000000</td>\n",
       "      <td>2007.000000</td>\n",
       "    </tr>\n",
       "    <tr>\n",
       "      <th>25%</th>\n",
       "      <td>39.500000</td>\n",
       "      <td>15.600000</td>\n",
       "      <td>190.000000</td>\n",
       "      <td>3550.000000</td>\n",
       "      <td>2007.000000</td>\n",
       "    </tr>\n",
       "    <tr>\n",
       "      <th>50%</th>\n",
       "      <td>44.500000</td>\n",
       "      <td>17.300000</td>\n",
       "      <td>197.000000</td>\n",
       "      <td>4050.000000</td>\n",
       "      <td>2008.000000</td>\n",
       "    </tr>\n",
       "    <tr>\n",
       "      <th>75%</th>\n",
       "      <td>48.600000</td>\n",
       "      <td>18.700000</td>\n",
       "      <td>213.000000</td>\n",
       "      <td>4775.000000</td>\n",
       "      <td>2009.000000</td>\n",
       "    </tr>\n",
       "    <tr>\n",
       "      <th>max</th>\n",
       "      <td>59.600000</td>\n",
       "      <td>21.500000</td>\n",
       "      <td>231.000000</td>\n",
       "      <td>6300.000000</td>\n",
       "      <td>2009.000000</td>\n",
       "    </tr>\n",
       "  </tbody>\n",
       "</table>\n",
       "</div>"
      ],
      "text/plain": [
       "       bill_length_mm  bill_depth_mm  flipper_length_mm  body_mass_g  \\\n",
       "count      333.000000     333.000000         333.000000   333.000000   \n",
       "mean        43.992793      17.164865         200.966967  4207.057057   \n",
       "std          5.468668       1.969235          14.015765   805.215802   \n",
       "min         32.100000      13.100000         172.000000  2700.000000   \n",
       "25%         39.500000      15.600000         190.000000  3550.000000   \n",
       "50%         44.500000      17.300000         197.000000  4050.000000   \n",
       "75%         48.600000      18.700000         213.000000  4775.000000   \n",
       "max         59.600000      21.500000         231.000000  6300.000000   \n",
       "\n",
       "              year  \n",
       "count   333.000000  \n",
       "mean   2008.042042  \n",
       "std       0.812944  \n",
       "min    2007.000000  \n",
       "25%    2007.000000  \n",
       "50%    2008.000000  \n",
       "75%    2009.000000  \n",
       "max    2009.000000  "
      ]
     },
     "execution_count": 6,
     "metadata": {},
     "output_type": "execute_result"
    }
   ],
   "source": [
    "# (2) \n",
    "penguins.describe()"
   ]
  },
  {
   "cell_type": "code",
   "execution_count": 7,
   "metadata": {},
   "outputs": [
    {
     "name": "stdout",
     "output_type": "stream",
     "text": [
      "['bill_length_mm', 'bill_depth_mm']\n"
     ]
    }
   ],
   "source": [
    "# Create a variable `target` with the the names of the target variable `species` \n",
    "target=[\"species\"]\n",
    "#print(target)\n",
    "#array `features` which contains the names of the two predictors: `bill_length_mm`, `bill_depth_mm`\n",
    "features=[\"bill_length_mm\",\"bill_depth_mm\"]\n",
    "print(features)"
   ]
  },
  {
   "cell_type": "code",
   "execution_count": 8,
   "metadata": {},
   "outputs": [],
   "source": [
    "# split the dataset into a training and testing dataset (use the value 1023 for `random_state` and the porportion 25% for the test set).\n",
    "x_train,x_test,y_train,y_test=train_test_split(penguins[features],penguins[target],test_size=0.25,random_state=1023)\n"
   ]
  },
  {
   "cell_type": "markdown",
   "metadata": {},
   "source": [
    "**Question 1. Fit a classification tree named `tree_clf` to explain `species` by using `bill_length_mm`, `bill_depth_mm`. Use `DecisionTreeClassifier` from `sklearn.tree`. Have a look at the documentation ([here](https://scikit-learn.org/stable/modules/generated/sklearn.tree.DecisionTreeClassifier.html)). Plot the tree and give its text representation.**\n",
    "\n",
    "**Indication: your tree is build by using the train set and the Gini criterion. The tree has a maximum depth of 2 and you use the value 1023 for `random_state`.**"
   ]
  },
  {
   "cell_type": "code",
   "execution_count": 9,
   "metadata": {},
   "outputs": [
    {
     "data": {
      "text/plain": [
       "DecisionTreeClassifier(max_depth=2, random_state=1023)"
      ]
     },
     "execution_count": 9,
     "metadata": {},
     "output_type": "execute_result"
    }
   ],
   "source": [
    "#Fit a classification tree named `tree_clf` to explain `species` by using `bill_length_mm`, `bill_depth_mm`\n",
    "from sklearn.tree import DecisionTreeClassifier\n",
    "\n",
    "clf=DecisionTreeClassifier(random_state=1023,max_depth=2)\n",
    "clf.fit(x_train,y_train)"
   ]
  },
  {
   "cell_type": "code",
   "execution_count": 10,
   "metadata": {},
   "outputs": [
    {
     "name": "stdout",
     "output_type": "stream",
     "text": [
      "|--- feature_0 <= 42.55\n",
      "|   |--- feature_1 <= 14.85\n",
      "|   |   |--- class: Gentoo\n",
      "|   |--- feature_1 >  14.85\n",
      "|   |   |--- class: Adelie\n",
      "|--- feature_0 >  42.55\n",
      "|   |--- feature_1 <= 16.35\n",
      "|   |   |--- class: Gentoo\n",
      "|   |--- feature_1 >  16.35\n",
      "|   |   |--- class: Chinstrap\n",
      "\n"
     ]
    }
   ],
   "source": [
    "#Plot the tree and give its text representation\n",
    "from sklearn import tree \n",
    "text_representation=tree.export_text(clf)\n",
    "print(text_representation)"
   ]
  },
  {
   "cell_type": "code",
   "execution_count": 11,
   "metadata": {},
   "outputs": [
    {
     "data": {
      "image/png": "[encoded data removed]",
      "text/plain": [
       "<Figure size 600x800 with 1 Axes>"
      ]
     },
     "metadata": {},
     "output_type": "display_data"
    }
   ],
   "source": [
    "from sklearn.tree import plot_tree\n",
    "fig=plt.figure(figsize=(6,8)) \n",
    "tree_plot=tree.plot_tree(clf,feature_names=features,class_names =clf.classes_,filled=True)"
   ]
  },
  {
   "cell_type": "markdown",
   "metadata": {},
   "source": [
    "**Question 1bis. Why do we need to choose a value for `random_state`? (use the documentation).**\n",
    "to ensure randomness ence ensuring reproducibility of results"
   ]
  },
  {
   "cell_type": "markdown",
   "metadata": {},
   "source": [
    "Answer:"
   ]
  },
  {
   "cell_type": "markdown",
   "metadata": {},
   "source": [
    "**Question 2. Based on the plot of the tree, write the prediction $f_n(\\mathbf x)$ associated to the tree for a new observation $\\mathbf x \\in \\mathbb R^2$.** \n",
    "\n",
    "*Indications:* \n",
    "- *bill_length_mm is consider as the first feature and so is denoted by $X_1$ while bill_depth_mm is the second feature and is then denoetd by $X_2$.*\n",
    "- *The modalities of `Species`will be coded as integer: Adelia =0, Chinstrap=1 and Gentoo=2.*"
   ]
  },
  {
   "cell_type": "markdown",
   "metadata": {},
   "source": [
    "Answer:\n",
    "\n"
   ]
  },
  {
   "cell_type": "markdown",
   "metadata": {},
   "source": [
    "**Question 3. Consider a penguin with a bill measuring 45mm (length) and 18mm (depth). By looking at the tree plot, give the probability that this penguin belongs to the Adelie familly, $\\mathbf P(Species =Adelie \\, \\vert \\, x_1 = 45, x_2=18)$ ? Check your result by using the methods `predict_proba()`,see ([here](https://scikit-learn.org/stable/modules/generated/sklearn.tree.DecisionTreeClassifier.html)).**"
   ]
  },
  {
   "cell_type": "markdown",
   "metadata": {},
   "source": [
    "Answer:8/61=0.1311\n",
    "\n"
   ]
  },
  {
   "cell_type": "code",
   "execution_count": 19,
   "metadata": {},
   "outputs": [
    {
     "name": "stdout",
     "output_type": "stream",
     "text": [
      "   bill_length_mm  bill_depth_mm\n",
      "0              45             18\n",
      "[[0.13114754 0.78688525 0.08196721]]\n"
     ]
    }
   ],
   "source": [
    "##TODO\n",
    "x_predict=pd.DataFrame({'bill_length_mm': [45], 'bill_depth_mm': [18]})\n",
    "print(x_predict)\n",
    "class_probabilities=clf.predict_proba(x_predict, check_input=True)\n",
    "print(class_probabilities)"
   ]
  },
  {
   "cell_type": "markdown",
   "metadata": {},
   "source": [
    "**Question 4. Plot the data and the partition associated to the tree. Does the partition agree with the treedisplayed at the previous question ?**"
   ]
  },
  {
   "cell_type": "code",
   "execution_count": null,
   "metadata": {},
   "outputs": [],
   "source": [
    "##------- Complete the command below by filling in the gaps '...'.-------##\n",
    "\n",
    "\n",
    "range_features = {\n",
    "    feature_name: (data[feature_name].min() - 1, data[feature_name].max() + 1)\n",
    "    for feature_name in data.columns\n",
    "}\n",
    "\n",
    "\n",
    "import numpy as np\n",
    "\n",
    "# A function to plot the partition associated to a decision tree model\n",
    "def plot_decision_function(fitted_classifier, range_features, ax=None):\n",
    "    \"\"\"Plot the boundary of the decision function of a classifier.\"\"\"\n",
    "    from sklearn.preprocessing import LabelEncoder\n",
    "\n",
    "    feature_names = list(range_features.keys())\n",
    "    # create a grid to evaluate all possible samples\n",
    "    plot_step = 0.02\n",
    "    xx, yy = np.meshgrid(\n",
    "        np.arange(*range_features[feature_names[0]], plot_step),\n",
    "        np.arange(*range_features[feature_names[1]], plot_step),\n",
    "    )\n",
    "\n",
    "    # compute the associated prediction\n",
    "    Z = fitted_classifier.predict(np.c_[xx.ravel(), yy.ravel()])\n",
    "    Z = LabelEncoder().fit_transform(Z)\n",
    "    Z = Z.reshape(xx.shape)\n",
    "\n",
    "    # make the plot of the boundary and the data samples\n",
    "    if ax is None:\n",
    "        _, ax = plt.subplots()\n",
    "    ax.contourf(xx, yy, Z, alpha=0.4, cmap=\"Pastel2\")\n",
    "\n",
    "    return ax\n",
    "\n",
    "# Define the colors used\n",
    "palette = [\"tab:orange\", \"tab:cyan\", \"tab:purple\"]\n",
    "\n",
    "ax = sns.scatterplot(data=...., x=....., y=......,hue=......, palette=palette)# Define the grid : the data space \n",
    "plot_decision_function(fitted_classifier=...., ax=....) # display the tree partition\n",
    "plt.legend(bbox_to_anchor=(1.05, 1), loc='upper left') # graphical options\n",
    "plt.title(\"Penguins dataset\")# graphical options\n"
   ]
  },
  {
   "cell_type": "markdown",
   "metadata": {},
   "source": [
    "Answer:"
   ]
  },
  {
   "cell_type": "markdown",
   "metadata": {},
   "source": [
    "**Question 5: Look at the tree structure by using the attribute `tree_`. See the documentations ([here](https://scikit-learn.org/stable/modules/generated/sklearn.tree.DecisionTreeClassifier.html)).Give the number of nodes, the impurity of each node, the node inodes, the id of the nodes, features and threshold used to split, the number of samples in each node.**\n",
    "\n",
    "\n",
    "\n"
   ]
  },
  {
   "cell_type": "code",
   "execution_count": 20,
   "metadata": {},
   "outputs": [
    {
     "name": "stdout",
     "output_type": "stream",
     "text": [
      "Listof split variables: [ 0  1 -2 -2  1 -2 -2] \n",
      "\n",
      "Number of nodes: 7 \n",
      "\n",
      "IDofthe left child nodes: [ 1  2 -1 -1  5 -1 -1] \n",
      "\n",
      "IDofthe right child nodes: [ 4  3 -1 -1  6 -1 -1] \n",
      "\n",
      "Impurity in the nodes: [0.63528008 0.07201646 0.         0.03702385 0.517479   0.\n",
      " 0.35689331] \n",
      "\n",
      "Treshold for each split: [42.54999924 14.8499999  -2.         -2.         16.34999943 -2.\n",
      " -2.        ] \n",
      "\n"
     ]
    }
   ],
   "source": [
    "##TODO\n",
    "print(\"Listof split variables:\",clf.tree_.feature,\"\\n\")\n",
    "print(\"Number of nodes:\",clf.tree_.node_count,\"\\n\")\n",
    "print(\"IDofthe left child nodes:\",clf.tree_.children_left,\"\\n\")# (-1ifitisleaf node)\n",
    "print(\"IDofthe right child nodes:\",clf.tree_.children_right,\"\\n\") # (-1ifitisleaf node)\n",
    "print(\"Impurity in the nodes:\",clf.tree_.impurity,\"\\n\")\n",
    "print(\"Treshold for each split:\",clf.tree_.threshold,\"\\n\")"
   ]
  },
  {
   "cell_type": "markdown",
   "metadata": {},
   "source": [
    "**Question 6. Predict the class of each observation of the test sample by using the tree and display the confusion matrix. Explain it. How many observations are misclassified? Give the error rate (displayed only twe decimals).**"
   ]
  },
  {
   "cell_type": "code",
   "execution_count": null,
   "metadata": {},
   "outputs": [],
   "source": [
    "##TODO"
   ]
  },
  {
   "cell_type": "markdown",
   "metadata": {},
   "source": [
    "**Question 7. Fit a second tree with the gini criterion, a maximum depth of 5 and `random_state`=1023. Draw the tree and compute the accuracy of this second tree on the test set. Compare the accuracy between the two trees. What tree do you choose? Justify.**"
   ]
  },
  {
   "cell_type": "code",
   "execution_count": null,
   "metadata": {},
   "outputs": [],
   "source": [
    "##TODO\n"
   ]
  },
  {
   "cell_type": "markdown",
   "metadata": {},
   "source": [
    "**BONUS. As we don't know what what is the optiml size of the tree, we will apply the cost-complexity pruning method that consists in the following steps.**\n",
    "   - **Step 1: Fit the maximum tree (don't choose any value for max_depth and use random_state=1023)**\n",
    "   - **Step 2: Get a sequence of values for the parameter (ccp_alpha) using the method `cost_complexity_pruning_path()` and built a tree for each value of the complexity parameter. Indication: the parameter `ccp_alpha`enables to make a trade-off between accuracy and complexity.**\n",
    "   - **Step 3: Compute the accuracy on both the train set and test set for each tree.**\n",
    "   - **Step 4: Draw the following plots :**\n",
    "      **Plot 1 = number of nodes of a tree vs ccp_alpha,**\n",
    "      **Plot 2 = tree depth vs ccp_alpha**\n",
    "      **Plot 3 and 4 = accuracy vs ccp_alpha for training and testing sets.**\n",
    "      \n",
    "**Run the code below and commend the graphics. What tree do you select ? Justifiy and plot it.**"
   ]
  },
  {
   "cell_type": "code",
   "execution_count": null,
   "metadata": {},
   "outputs": [],
   "source": [
    "## Step 1\n",
    "from sklearn.tree import DecisionTreeClassifier, plot_tree\n",
    "max_tree_clf = DecisionTreeClassifier(random_state=2310)"
   ]
  },
  {
   "cell_type": "code",
   "execution_count": null,
   "metadata": {},
   "outputs": [],
   "source": [
    "## Step 2\n",
    "path = max_tree_clf.cost_complexity_pruning_path(data_train, target_train)\n",
    "ccp_alphas= path.ccp_alphas; #print('ccp-alphas values:',ccp_alphas)\n",
    "\n",
    "tree_clfs = []\n",
    "for alpha in ccp_alphas:\n",
    "    tree_clf = DecisionTreeClassifier(random_state=2310, ccp_alpha=alpha)\n",
    "    tree_clf.fit(data_train, target_train)\n",
    "    tree_clfs.append(tree_clf)\n",
    "\n",
    "\n",
    "tree_clfs = tree_clfs[:-1] #a list including all the decision trees for all alpha values\n",
    "ccp_alphas = ccp_alphas[:-1] #a list including all alpha values\n",
    "\n",
    "\n",
    "node_counts = [tree_clf.tree_.node_count for tree_clf in tree_clfs]#a vector with the number of nodes for all decision trees \n",
    "depth = [tree_clf.tree_.max_depth for tree_clf in tree_clfs]#a vector with the depth for all decision trees "
   ]
  },
  {
   "cell_type": "code",
   "execution_count": null,
   "metadata": {},
   "outputs": [],
   "source": [
    "## Step 3\n",
    "train_acc = [tree_clf.score(data_train, target_train) for tree_clf in tree_clfs]\n",
    "test_acc = [tree_clf.score(data_test, target_test) for tree_clf in tree_clfs]"
   ]
  },
  {
   "cell_type": "code",
   "execution_count": null,
   "metadata": {},
   "outputs": [],
   "source": [
    "## Step 4\n",
    "\n",
    "fig, ax = plt.subplots(figsize=(8,5))\n",
    "ax.plot(ccp_alphas, node_counts, marker='o', drawstyle=\"steps-post\")\n",
    "ax.set_xlabel(\"alpha\")\n",
    "ax.set_ylabel(\"number of nodes\")\n",
    "ax.set_title(\"Number of nodes vs alpha\")\n",
    "fig.tight_layout()\n",
    "\n",
    "fig, ax = plt.subplots(figsize=(8,5))\n",
    "ax.plot(ccp_alphas, depth, marker='o', drawstyle=\"steps-post\")\n",
    "ax.set_xlabel(\"alpha\")\n",
    "ax.set_ylabel(\"depth of tree\")\n",
    "ax.set_title(\"Depth vs alpha\")\n",
    "fig.tight_layout()\n",
    "\n",
    "fig, ax = plt.subplots(figsize=(10,6))\n",
    "ax.plot(ccp_alphas, train_acc, marker='o', label=\"train\", drawstyle=\"steps-post\")\n",
    "ax.plot(ccp_alphas, test_acc, marker='o', label=\"test\",   drawstyle=\"steps-post\")\n",
    "ax.set_xlabel(\"alpha\")\n",
    "ax.set_ylabel(\"accuracy\")\n",
    "ax.set_title(\"Accuracy vs alpha for training and testing sets\")\n",
    "ax.legend()\n",
    "plt.show()"
   ]
  },
  {
   "cell_type": "markdown",
   "metadata": {},
   "source": [
    "Answer:"
   ]
  },
  {
   "cell_type": "code",
   "execution_count": null,
   "metadata": {},
   "outputs": [],
   "source": [
    "##TODO"
   ]
  },
  {
   "cell_type": "markdown",
   "metadata": {},
   "source": [
    "## Ex 2: introduction to regression trees"
   ]
  },
  {
   "cell_type": "markdown",
   "metadata": {},
   "source": [
    "We work with the iris dataset (see the dataset documentation https://scikit-learn.org/stable/auto_examples/datasets/plot_iris_dataset.html).\n",
    "\n",
    "\n",
    "**Question 0. First of all,**\n",
    " - **load the data and look at them (dimension, attributes, statistic summary).** \n",
    " - **select the variables that we will use in the exercise (predictor = `sepal length`, target = `petal width`)**\n",
    " - **plot the data (x-axis = `sepal length`, y-axis = `petal width`).**\n",
    " - **split the dataset into a training and testing dataset (use `random_state`=2310 and `test_size`=0.3).**"
   ]
  },
  {
   "cell_type": "code",
   "execution_count": null,
   "metadata": {},
   "outputs": [],
   "source": [
    "## TODO\n"
   ]
  },
  {
   "cell_type": "markdown",
   "metadata": {},
   "source": [
    "**Question 1. Fit a regression tree + a linear model to explain `petal width` by using `sepal length`. Use `DecisionTreeRegressor` from `sklearn.tree`. Have a look at the documentation ([here tree](https://scikit-learn.org/stable/modules/generated/sklearn.tree.DecisionTreeRegressor.html) and [here linear model](https://scikit-learn.org/stable/modules/generated/sklearn.linear_model.LinearRegression.html)). Plot the tree and give its text representation.**\n",
    "\n",
    "**Indication: your tree is build by using the train set and an appropriate impurity criterion. The tree has a maximum depth of 3 and you use the value 2310 for `random_state`. Use the default parameter values for the linear model.**"
   ]
  },
  {
   "cell_type": "code",
   "execution_count": null,
   "metadata": {},
   "outputs": [],
   "source": [
    "##TODO"
   ]
  },
  {
   "cell_type": "markdown",
   "metadata": {},
   "source": [
    "**Question 2. Based on the plot of the tree, what it the prediction of the `petal width` for the new observation with `sepal length`= 2,4 ? How is computed the prediction on each leaf of the tree ?**"
   ]
  },
  {
   "cell_type": "markdown",
   "metadata": {},
   "source": [
    "Answer:"
   ]
  },
  {
   "cell_type": "markdown",
   "metadata": {},
   "source": [
    "**Question 3. Compute the predictions of both models on the test set.** "
   ]
  },
  {
   "cell_type": "code",
   "execution_count": null,
   "metadata": {},
   "outputs": [],
   "source": [
    "##TODO\n",
    "\n"
   ]
  },
  {
   "cell_type": "markdown",
   "metadata": {},
   "source": [
    "**Question 4. Display the data using a scatter plot and superimpose as two lines the predictions of both the models.** "
   ]
  },
  {
   "cell_type": "code",
   "execution_count": null,
   "metadata": {},
   "outputs": [],
   "source": [
    "##TODO\n"
   ]
  },
  {
   "cell_type": "markdown",
   "metadata": {},
   "source": [
    "**Question 5. Compute the error for both the models. Interpret the results.**"
   ]
  },
  {
   "cell_type": "code",
   "execution_count": null,
   "metadata": {},
   "outputs": [],
   "source": [
    "##TODO"
   ]
  }
 ],
 "metadata": {
  "kernelspec": {
   "display_name": "Python 3 (ipykernel)",
   "language": "python",
   "name": "python3"
  },
  "language_info": {
   "codemirror_mode": {
    "name": "ipython",
    "version": 3
   },
   "file_extension": ".py",
   "mimetype": "text/x-python",
   "name": "python",
   "nbconvert_exporter": "python",
   "pygments_lexer": "ipython3",
   "version": "3.9.13"
  }
 },
 "nbformat": 4,
 "nbformat_minor": 4
}
