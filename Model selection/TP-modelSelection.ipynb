{
 "cells": [
  {
   "cell_type": "markdown",
   "metadata": {},
   "source": [
    "# Lab - Model selection\n",
    "\n",
    "The aim of this lab session is to\n",
    "* measure the empirical risk of a supervised learning model for different sample sizes (i.e. different quantities of training samples)\n",
    "* select the optimal value and evaluate the generalisability of a supervised learning (classification) model using \n",
    " * a division into training, validation and test data \n",
    " * the principle of cross-validation"
   ]
  },
  {
   "cell_type": "code",
   "execution_count": 1,
   "metadata": {},
   "outputs": [],
   "source": [
    "import numpy as np\n",
    "import pandas as pd\n",
    "\n",
    "import random\n",
    "\n",
    "import seaborn as sn\n",
    "\n",
    "import matplotlib.pyplot as plt\n",
    "%matplotlib inline\n",
    "\n",
    "from sklearn import datasets\n",
    "from sklearn.neighbors import KNeighborsClassifier\n",
    "from sklearn.metrics import confusion_matrix, accuracy_score\n",
    "from sklearn.model_selection import train_test_split\n",
    "from sklearn.model_selection import cross_val_score"
   ]
  },
  {
   "cell_type": "markdown",
   "metadata": {},
   "source": [
    "## Part 1. Data\n",
    "\n",
    "The data used in this tutorial are images of handwritten numbers. Automatic recognition of these digits (and more generally of handwriting) is a classic but complex problem. It is used in particular in automatic mail sorting systems.\n",
    "The data used for this tutorial corresponds to a simplified extract from the MNIST (Modified National Institute of Standards and Technology) data set, which originally contained 70,000 images of digits (0 to 9). \n",
    "\n",
    "Each image (i.e. an observation) is 8 pix in size. This corresponds to a vector made up of $d=64$ variables ($\\mathbf{x}_i \\in \\mathbb{R}^d$ for $1\\le i\\le m$).\n",
    "\n",
    "**Note**: The 8 pix $\\times$ 8 pix thumbnails are obtained by applying a dimension reduction to the original 32 pix $\\times$ 32 pix binary images. The original images were cut into blocks of 4 $\\times$ 4 pix. (with no overlap). In each block, the number of \"1s\" used as new pixel values was counted to create a (non-binary) image of size 8 pix. $\\times$ 8 pix with each pixel able to have a value between 0 and 16."
   ]
  },
  {
   "cell_type": "code",
   "execution_count": 2,
   "metadata": {},
   "outputs": [],
   "source": [
    "#-- Downloading the data\n",
    "digits = datasets.load_digits()\n",
    "X = digits.data\n",
    "Y = digits.target\n",
    "#print(digits.DESCR)"
   ]
  },
  {
   "cell_type": "code",
   "execution_count": 3,
   "metadata": {},
   "outputs": [
    {
     "data": {
      "text/plain": [
       "<Figure size 432x288 with 0 Axes>"
      ]
     },
     "metadata": {},
     "output_type": "display_data"
    },
    {
     "data": {
      "image/png": "[encoded data removed]",
      "text/plain": [
       "<Figure size 288x288 with 1 Axes>"
      ]
     },
     "metadata": {},
     "output_type": "display_data"
    },
    {
     "name": "stdout",
     "output_type": "stream",
     "text": [
      "Variables:  [ 0.  0. 12. 10.  0.  0.  0.  0.  0.  0. 14. 16. 16. 14.  0.  0.  0.  0.\n",
      " 13. 16. 15. 10.  1.  0.  0.  0. 11. 16. 16.  7.  0.  0.  0.  0.  0.  4.\n",
      "  7. 16.  7.  0.  0.  0.  0.  0.  4. 16.  9.  0.  0.  0.  5.  4. 12. 16.\n",
      "  4.  0.  0.  0.  9. 16. 16. 10.  0.  0.]\n",
      "Classe asociée:  5\n"
     ]
    },
    {
     "data": {
      "text/plain": [
       "<Figure size 432x288 with 0 Axes>"
      ]
     },
     "metadata": {},
     "output_type": "display_data"
    },
    {
     "data": {
      "image/png": "[encoded data removed]",
      "text/plain": [
       "<Figure size 288x288 with 1 Axes>"
      ]
     },
     "metadata": {},
     "output_type": "display_data"
    },
    {
     "name": "stdout",
     "output_type": "stream",
     "text": [
      "Variables:  [ 0.  2.  9. 15. 14.  9.  3.  0.  0.  4. 13.  8.  9. 16.  8.  0.  0.  0.\n",
      "  0.  6. 14. 15.  3.  0.  0.  0.  0. 11. 14.  2.  0.  0.  0.  0.  0.  2.\n",
      " 15. 11.  0.  0.  0.  0.  0.  0.  2. 15.  4.  0.  0.  1.  5.  6. 13. 16.\n",
      "  6.  0.  0.  2. 12. 12. 13. 11.  0.  0.]\n",
      "Classe asociée:  3\n"
     ]
    }
   ],
   "source": [
    "#-- Data visualisation\n",
    "disp_imgno = [5, 13] # Test other values\n",
    "for ll in disp_imgno:\n",
    "    plt.figure()\n",
    "    plt.matshow(digits.images[ll])\n",
    "    for (i, j), z in np.ndenumerate(digits.images[ll]):\n",
    "        if z!=0:\n",
    "            plt.text(j, i, '{:d}'.format(int(z)), ha='center', va='center')\n",
    "    plt.gca().set_xticks([])\n",
    "    plt.gca().set_yticks([])\n",
    "    plt.show()\n",
    "    print(\"Variables: \", X[ll,:])\n",
    "    print(\"Label: \", Y[ll])"
   ]
  },
  {
   "cell_type": "markdown",
   "metadata": {},
   "source": [
    "**Questions** : \n",
    "* What is the link between the images (`digit.images[ll]`) and the variables (`X[ll,:]`) + the labels (`Y[ll]`)? \n",
    "* What is the number of training data?"
   ]
  },
  {
   "cell_type": "markdown",
   "metadata": {},
   "source": [
    "## Part 2. Influence of the sample size\n",
    "The objective here is to evaluate the performance of a classification algorithm (empirical risk and real risk), the $k$-Nearest Neighbours (NN), when the number of training data increases ($m$)."
   ]
  },
  {
   "cell_type": "markdown",
   "metadata": {},
   "source": [
    "### 1. Empiric risk\n",
    "\n",
    "**2.1.a** Apply a $k$-PPV with $k=1$. Calculate the error rate (which corresponds to the empirical risk $\\mathcal{R}_{emp}$) and explain the result.\n",
    "\n",
    "**Tips**: \n",
    "* You can use the $k$-PPV algorithm from Scikit-Learn: [doc](https://scikit-learn.org/stable/modules/generated/sklearn.neighbors.KNeighborsClassifier.html). Find the name of the hyperparameter that allows you to set the number of neighbours considered during learning ($k$).\n",
    "* The error rate is equal to 1 - Overall Accuracy. You can implement your own function or use Scikit-Learn fonctionalities"
   ]
  },
  {
   "cell_type": "code",
   "execution_count": null,
   "metadata": {},
   "outputs": [],
   "source": [
    "#-- Write your code here"
   ]
  },
  {
   "cell_type": "markdown",
   "metadata": {},
   "source": [
    "**2.1.b** Apply a $k$-PPV with $k=5$. Calculate the error rate $\\mathcal{R}_{emp}$ and display the confusion matrix.\n",
    "\n",
    "**Tip**: \n",
    "Let `C` be your confusion matrix.\n",
    "* For a simple display of the confusion matrix :\n",
    "``` \n",
    "plt.figure()\n",
    "plt.imshow(C)\n",
    "plt.show()\n",
    "```\n",
    "* For a more elaborate display with Seaborn :\n",
    "```\n",
    "labels = data.target_names\n",
    "df_cm = pd.DataFrame(C, index = [i for i in labels],columns = [i for i in labels])\n",
    "plt.figure()\n",
    "sn.heatmap(df_cm, annot=True, fmt='d')\n",
    "```"
   ]
  },
  {
   "cell_type": "code",
   "execution_count": null,
   "metadata": {},
   "outputs": [],
   "source": [
    "#-- Write your code here"
   ]
  },
  {
   "cell_type": "markdown",
   "metadata": {},
   "source": [
    "**2.1.c** Plot the evolution of the empirical risk, for $k=5$, as a function of the size of the training data.\n",
    "* Define the different training sizes: `size = [5, 10, 25, 50, 75, 100, 150, 200, 250, 500, 1000, 1500]`.\n",
    "* Draw a random sample of the given size.\n",
    "Note: you can also use the `random.sample` method in the `random` module.\n",
    "* Apply a $5$-PPV for each sample size and calculate $\\mathcal{R}_{emp}$ the empirical risk.\n",
    "* Plot the evolution of the empirical risk as a function of sample size: $\\mathcal{R}_{emp}=f(size)$.\n",
    "\n",
    "**Comment**"
   ]
  },
  {
   "cell_type": "code",
   "execution_count": null,
   "metadata": {},
   "outputs": [],
   "source": [
    "#-- Write your code here"
   ]
  },
  {
   "cell_type": "raw",
   "metadata": {},
   "source": [
    "Your comment:"
   ]
  },
  {
   "cell_type": "markdown",
   "metadata": {},
   "source": [
    "### 2. Real risk and generalisation error, $k$ fixed\n",
    "\n",
    "**2.2.a** Calculate an estimate of the generalisation error using a training and test set ($N=297$), for the different training sample sizes tested above (size), and always considering a $5$-PPV.\n",
    "* Randomly divide the samples into training and test subsets: ` Xtrain, Xtest, Ytrain, Ytest = train_test_split(X,Y, test_size=N)` where `N` is the desired test sample size.\n",
    "* Superimpose the two curves showing the evolution of the empirical risk and the real risk as a function of the size of the training sample. Feel free to display the curves only for the largest training sample sizes.\n",
    "\n",
    "**Compare and comment**"
   ]
  },
  {
   "cell_type": "code",
   "execution_count": 1,
   "metadata": {},
   "outputs": [],
   "source": [
    "#-- Write your code here"
   ]
  },
  {
   "cell_type": "raw",
   "metadata": {},
   "source": [
    "Compare and comment:"
   ]
  },
  {
   "cell_type": "markdown",
   "metadata": {},
   "source": [
    "**2.2.b** Up to now, the results have been obtained for a single repetition, although the results depend on the split between the training and test data. This procedure is generally repeated several times in order to obtain the mean and variance of the results.\n",
    "\n",
    "Repeat the previous procedure (2.2.a) 20 times, and calculate the mean empirical and true risks, as well as the associated variances. Compare the results with those obtained from a single repetition.\n",
    "\n",
    "**Tip**: you can display the results using plt.errorbar() to display the curve +/- one standard deviation.\n",
    "\n",
    "**Comment**"
   ]
  },
  {
   "cell_type": "code",
   "execution_count": 4,
   "metadata": {},
   "outputs": [],
   "source": [
    "#-- Rerun for 20 runs"
   ]
  },
  {
   "cell_type": "code",
   "execution_count": 5,
   "metadata": {},
   "outputs": [],
   "source": [
    "#-- Display the resuls"
   ]
  },
  {
   "cell_type": "raw",
   "metadata": {},
   "source": [
    "Comments (compare with previous results, compare the variance, compara the empirical and real risks):"
   ]
  },
  {
   "cell_type": "markdown",
   "metadata": {},
   "source": [
    "**2.2.c** Carry out a cross validation on 5 subsets / partitions (*$5$-fold cross validation*) on all the training data (always with the $5$-PPV). Give an estimate of the generalisation error: `scores = cross_val_score(knn, X, Y, cv=5)` [doc](https://scikit-learn.org/stable/modules/generated/sklearn.model_selection.cross_val_score.html?highlight=cross_val_score#sklearn.model_selection.cross_val_score).\n",
    "\n",
    "**Question**: What is the average Overall Accuracy value you obtain?"
   ]
  },
  {
   "cell_type": "code",
   "execution_count": null,
   "metadata": {},
   "outputs": [],
   "source": [
    "#-- Write your code here"
   ]
  },
  {
   "cell_type": "markdown",
   "metadata": {},
   "source": [
    "**Your answer**:"
   ]
  },
  {
   "cell_type": "markdown",
   "metadata": {},
   "source": [
    "## Part 3. Selecting the best $k$-hyperparameter (of the $k$-PPV) and estimating generalisation\n",
    "\n",
    "The aim of this part is to determine the best value for the $k$ hyperparameter of the PPV algorithm and to evaluate the generalisation performance.\n",
    "\n",
    "**3.1** Plot the evolution of the empirical risk for $k\\in [1,30]$. **Comment**"
   ]
  },
  {
   "cell_type": "code",
   "execution_count": null,
   "metadata": {},
   "outputs": [],
   "source": [
    "#-- Write your code here"
   ]
  },
  {
   "cell_type": "markdown",
   "metadata": {},
   "source": [
    "**Your comment**:"
   ]
  },
  {
   "cell_type": "markdown",
   "metadata": {},
   "source": [
    "**3.2** Create a training set containing 80% of the data. The remaining 20% will be test data."
   ]
  },
  {
   "cell_type": "code",
   "execution_count": null,
   "metadata": {},
   "outputs": [],
   "source": [
    "#-- Write your code here"
   ]
  },
  {
   "cell_type": "markdown",
   "metadata": {},
   "source": [
    "**3.3** For $k\\in [1,30]$, perform a 5 subset cross-validation (*$5$-fold cross-validation*) on the training dataset. The same training dataset will be considered."
   ]
  },
  {
   "cell_type": "code",
   "execution_count": null,
   "metadata": {},
   "outputs": [],
   "source": [
    "#-- Write your code here"
   ]
  },
  {
   "cell_type": "markdown",
   "metadata": {},
   "source": [
    "**3.4** What is the best value of $k$ to choose?"
   ]
  },
  {
   "cell_type": "markdown",
   "metadata": {},
   "source": [
    "**Your answer**"
   ]
  },
  {
   "cell_type": "markdown",
   "metadata": {},
   "source": [
    "**3.5** For this optimal value of $k$, give an estimate of the real risk. The learning step will be carried out on the training and validation data."
   ]
  },
  {
   "cell_type": "code",
   "execution_count": null,
   "metadata": {},
   "outputs": [],
   "source": [
    "#-- Write your code here"
   ]
  },
  {
   "cell_type": "markdown",
   "metadata": {},
   "source": [
    "**3.6** Compute the confusion matrix for the model. What do you think of this model?"
   ]
  },
  {
   "cell_type": "code",
   "execution_count": null,
   "metadata": {},
   "outputs": [],
   "source": [
    "#-- Write your code here"
   ]
  },
  {
   "cell_type": "markdown",
   "metadata": {},
   "source": [
    "**Your answer**"
   ]
  },
  {
   "cell_type": "markdown",
   "metadata": {},
   "source": [
    "**3.7** Finally, give an estimate of the real risk by implementing a nested cross validation (with $k=10$ for the outter loop).\n",
    "\n",
    "What is the value of the average real risk you obtain?"
   ]
  },
  {
   "cell_type": "code",
   "execution_count": null,
   "metadata": {},
   "outputs": [],
   "source": [
    "#-- Write your code here"
   ]
  },
  {
   "cell_type": "markdown",
   "metadata": {},
   "source": [
    "**Your answer**"
   ]
  },
  {
   "cell_type": "code",
   "execution_count": null,
   "metadata": {},
   "outputs": [],
   "source": []
  }
 ],
 "metadata": {
  "kernelspec": {
   "display_name": "Python 3",
   "language": "python",
   "name": "python3"
  },
  "language_info": {
   "codemirror_mode": {
    "name": "ipython",
    "version": 3
   },
   "file_extension": ".py",
   "mimetype": "text/x-python",
   "name": "python",
   "nbconvert_exporter": "python",
   "pygments_lexer": "ipython3",
   "version": "3.8.3"
  }
 },
 "nbformat": 4,
 "nbformat_minor": 4
}
